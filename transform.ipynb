{
 "cells": [
  {
   "cell_type": "code",
   "execution_count": 0,
   "metadata": {
    "application/vnd.databricks.v1+cell": {
     "cellMetadata": {
      "byteLimit": 2048000,
      "rowLimit": 10000
     },
     "inputWidgets": {},
     "nuid": "e1841689-efab-4639-bc7b-d083d6fd8c46",
     "showTitle": false,
     "title": ""
    }
   },
   "outputs": [],
   "source": [
    "from pyspark.sql import SparkSession\n",
    "from datetime import datetime, timedelta\n",
    "import pandas as pd\n",
    "from pyspark.sql.functions import col, min, max"
   ]
  },
  {
   "cell_type": "code",
   "execution_count": 0,
   "metadata": {
    "application/vnd.databricks.v1+cell": {
     "cellMetadata": {
      "byteLimit": 2048000,
      "rowLimit": 10000
     },
     "inputWidgets": {},
     "nuid": "a6b185c8-2c41-4fc8-9d90-27d2d025add3",
     "showTitle": false,
     "title": ""
    }
   },
   "outputs": [],
   "source": [
    "spark = SparkSession.builder.appName(\"MyDataProcessingJob\").getOrCreate()"
   ]
  },
  {
   "cell_type": "code",
   "execution_count": 0,
   "metadata": {
    "application/vnd.databricks.v1+cell": {
     "cellMetadata": {
      "byteLimit": 2048000,
      "rowLimit": 10000
     },
     "inputWidgets": {},
     "nuid": "6432be65-e35a-4454-ab4f-2470a6287edc",
     "showTitle": false,
     "title": ""
    }
   },
   "outputs": [],
   "source": [
    "trips_raw = spark.read.table(\"hive_metastore.metrobikes.trips\")\n",
    "#trips_raw.show(10) "
   ]
  },
  {
   "cell_type": "code",
   "execution_count": 0,
   "metadata": {
    "application/vnd.databricks.v1+cell": {
     "cellMetadata": {
      "byteLimit": 2048000,
      "rowLimit": 10000
     },
     "inputWidgets": {},
     "nuid": "a67830f6-806c-419c-b1fe-f922bba7281c",
     "showTitle": false,
     "title": ""
    }
   },
   "outputs": [],
   "source": [
    "kiosks_raw = spark.read.table(\"hive_metastore.metrobikes.kiosk_locations\")\n",
    "#kiosks_raw.show(10) "
   ]
  },
  {
   "cell_type": "code",
   "execution_count": 0,
   "metadata": {
    "application/vnd.databricks.v1+cell": {
     "cellMetadata": {
      "byteLimit": 2048000,
      "rowLimit": 10000
     },
     "inputWidgets": {},
     "nuid": "f1e7ba04-30e8-49e8-b120-b86107774c3f",
     "showTitle": false,
     "title": ""
    }
   },
   "outputs": [],
   "source": [
    "sensors_raw = spark.read.table(\"hive_metastore.metrobikes.sensors\")\n",
    "#sensors_raw.show(10)  "
   ]
  },
  {
   "cell_type": "code",
   "execution_count": 0,
   "metadata": {
    "application/vnd.databricks.v1+cell": {
     "cellMetadata": {
      "byteLimit": 2048000,
      "rowLimit": 10000
     },
     "inputWidgets": {},
     "nuid": "e6d0804e-7663-4dc6-bd20-285882537266",
     "showTitle": false,
     "title": ""
    }
   },
   "outputs": [],
   "source": [
    "traffic_raw = spark.read.table(\"hive_metastore.metrobikes.traffic_counts\")\n",
    "#traffic_raw.show(10) "
   ]
  },
  {
   "cell_type": "markdown",
   "metadata": {
    "application/vnd.databricks.v1+cell": {
     "cellMetadata": {
      "byteLimit": 2048000,
      "rowLimit": 10000
     },
     "inputWidgets": {},
     "nuid": "6fdc2745-671e-4115-bd14-9faab4122cdc",
     "showTitle": false,
     "title": ""
    }
   },
   "source": [
    "Removing whitespaces from column names."
   ]
  },
  {
   "cell_type": "code",
   "execution_count": 0,
   "metadata": {
    "application/vnd.databricks.v1+cell": {
     "cellMetadata": {
      "byteLimit": 2048000,
      "rowLimit": 10000
     },
     "inputWidgets": {},
     "nuid": "e2806ec4-e3f9-496a-8c9f-6d28d6ddcf9d",
     "showTitle": false,
     "title": ""
    }
   },
   "outputs": [],
   "source": [
    "def remove_whitespace(df):\n",
    "    column_names = df.columns\n",
    "    column_names_no_spaces = [s.replace(' ', '') for s in column_names]\n",
    "    column_name_mapping = dict(zip(column_names, column_names_no_spaces))\n",
    "    for old_col, new_col in column_name_mapping.items():\n",
    "        df = df.withColumnRenamed(old_col, new_col)\n",
    "    return df"
   ]
  },
  {
   "cell_type": "code",
   "execution_count": 0,
   "metadata": {
    "application/vnd.databricks.v1+cell": {
     "cellMetadata": {
      "byteLimit": 2048000,
      "rowLimit": 10000
     },
     "inputWidgets": {},
     "nuid": "44ca3db7-9b16-4e96-adfd-df03c9bb2bab",
     "showTitle": false,
     "title": ""
    }
   },
   "outputs": [],
   "source": [
    "trips_raw = remove_whitespace(trips_raw)"
   ]
  },
  {
   "cell_type": "code",
   "execution_count": 0,
   "metadata": {
    "application/vnd.databricks.v1+cell": {
     "cellMetadata": {
      "byteLimit": 2048000,
      "rowLimit": 10000
     },
     "inputWidgets": {},
     "nuid": "9abc04f3-ad6e-4206-9083-a09f67ebae78",
     "showTitle": false,
     "title": ""
    }
   },
   "outputs": [
    {
     "output_type": "execute_result",
     "data": {
      "text/plain": [
       "['TripID',\n",
       " 'MembershiporPassType',\n",
       " 'BicycleID',\n",
       " 'BikeType',\n",
       " 'CheckoutDatetime',\n",
       " 'CheckoutDate',\n",
       " 'CheckoutTime',\n",
       " 'CheckoutKioskID',\n",
       " 'CheckoutKiosk',\n",
       " 'ReturnKioskID',\n",
       " 'ReturnKiosk',\n",
       " 'TripDurationMinutes',\n",
       " 'Month',\n",
       " 'Year']"
      ]
     },
     "execution_count": 108,
     "metadata": {},
     "output_type": "execute_result"
    }
   ],
   "source": [
    "trips_raw.columns"
   ]
  },
  {
   "cell_type": "code",
   "execution_count": 0,
   "metadata": {
    "application/vnd.databricks.v1+cell": {
     "cellMetadata": {
      "byteLimit": 2048000,
      "rowLimit": 10000
     },
     "inputWidgets": {},
     "nuid": "e6aefe3a-0bcc-4bd8-9842-e29781ad9529",
     "showTitle": false,
     "title": ""
    }
   },
   "outputs": [],
   "source": [
    "kiosks_raw = remove_whitespace(kiosks_raw)"
   ]
  },
  {
   "cell_type": "code",
   "execution_count": 0,
   "metadata": {
    "application/vnd.databricks.v1+cell": {
     "cellMetadata": {
      "byteLimit": 2048000,
      "rowLimit": 10000
     },
     "inputWidgets": {},
     "nuid": "d89d9320-fd84-45c8-b1fe-2b933a2b5702",
     "showTitle": false,
     "title": ""
    }
   },
   "outputs": [
    {
     "output_type": "execute_result",
     "data": {
      "text/plain": [
       "['KioskID',\n",
       " 'KioskName',\n",
       " 'KioskStatus',\n",
       " 'Location',\n",
       " 'Address',\n",
       " 'AlternateName',\n",
       " 'CityAssetNumber',\n",
       " 'PropertyType',\n",
       " 'NumberofDocks',\n",
       " 'PowerType',\n",
       " 'FootprintLength',\n",
       " 'FootprintWidth',\n",
       " 'Notes',\n",
       " 'CouncilDistrict',\n",
       " 'Image',\n",
       " 'ModifiedDate']"
      ]
     },
     "execution_count": 110,
     "metadata": {},
     "output_type": "execute_result"
    }
   ],
   "source": [
    "kiosks_raw.columns"
   ]
  },
  {
   "cell_type": "code",
   "execution_count": 0,
   "metadata": {
    "application/vnd.databricks.v1+cell": {
     "cellMetadata": {
      "byteLimit": 2048000,
      "rowLimit": 10000
     },
     "inputWidgets": {},
     "nuid": "68c807d1-6a11-45e6-b1ab-8094ec4eb12d",
     "showTitle": false,
     "title": ""
    }
   },
   "outputs": [
    {
     "output_type": "execute_result",
     "data": {
      "text/plain": [
       "['READER_ID',\n",
       " 'ATD_SENSOR_ID',\n",
       " 'KITS_ID',\n",
       " 'ATD_LOCATION_ID',\n",
       " 'MODIFIED_DATE',\n",
       " 'SENSOR_STATUS',\n",
       " 'TURN_ON_DATE',\n",
       " 'SENSOR_TYPE',\n",
       " 'SENSOR_MFG',\n",
       " 'COA_INTERSECTION_ID',\n",
       " 'PRIMARY_ST_SEGMENT_ID',\n",
       " 'CROSS_ST_SEGMENT_ID',\n",
       " 'LANDMARK',\n",
       " 'PRIMARY_ST_AKA',\n",
       " 'CROSS_ST_AKA',\n",
       " 'SIGNAL_ENG_AREA',\n",
       " 'COUNCIL_DISTRICT',\n",
       " 'JURISDICTION',\n",
       " 'LOCATION_TYPE',\n",
       " 'LOCATION_NAME',\n",
       " 'PRIMARY_ST',\n",
       " 'CROSS_ST',\n",
       " 'PRIMARY_ST_BLOCK',\n",
       " 'COUNTY',\n",
       " 'CROSS_ST_BLOCK',\n",
       " 'IP_COMM_STATUS',\n",
       " 'COMM_STATUS_DATETIME_UTC',\n",
       " 'LOCATION_LATITUDE',\n",
       " 'LOCATION_LONGITUDE',\n",
       " 'SourceDBID',\n",
       " 'LOCATION',\n",
       " 'PRIMARY_ST_SEGMENT_DISPLAY_NAME',\n",
       " 'CROSS_ST_SEGMENT_DISPLAY_NAME',\n",
       " 'JURISDICTION_LABEL',\n",
       " 'CORRIDOR_NAME']"
      ]
     },
     "execution_count": 111,
     "metadata": {},
     "output_type": "execute_result"
    }
   ],
   "source": [
    "sensors_raw = remove_whitespace(sensors_raw)\n",
    "sensors_raw.columns"
   ]
  },
  {
   "cell_type": "code",
   "execution_count": 0,
   "metadata": {
    "application/vnd.databricks.v1+cell": {
     "cellMetadata": {
      "byteLimit": 2048000,
      "rowLimit": 10000
     },
     "inputWidgets": {},
     "nuid": "88b9c445-222f-4c27-ab08-84322a34331e",
     "showTitle": false,
     "title": ""
    }
   },
   "outputs": [
    {
     "output_type": "execute_result",
     "data": {
      "text/plain": [
       "['RowID',\n",
       " 'DetectorID',\n",
       " 'KITSID',\n",
       " 'ReadDate',\n",
       " 'IntersectionName',\n",
       " 'Lane',\n",
       " 'Volume',\n",
       " 'Occupancy',\n",
       " 'Speed',\n",
       " 'Month',\n",
       " 'Day',\n",
       " 'Year',\n",
       " 'Hour',\n",
       " 'Minute',\n",
       " 'DayofWeek',\n",
       " 'TimeBin',\n",
       " 'Direction']"
      ]
     },
     "execution_count": 112,
     "metadata": {},
     "output_type": "execute_result"
    }
   ],
   "source": [
    "traffic_raw = remove_whitespace(traffic_raw)\n",
    "traffic_raw.columns"
   ]
  },
  {
   "cell_type": "markdown",
   "metadata": {
    "application/vnd.databricks.v1+cell": {
     "cellMetadata": {
      "byteLimit": 2048000,
      "rowLimit": 10000
     },
     "inputWidgets": {},
     "nuid": "f811ec33-bc6b-4920-bbbe-bd51be450e02",
     "showTitle": false,
     "title": ""
    }
   },
   "source": [
    "Tranforming the data, creating fact and dimension tables"
   ]
  },
  {
   "cell_type": "code",
   "execution_count": 0,
   "metadata": {
    "application/vnd.databricks.v1+cell": {
     "cellMetadata": {
      "byteLimit": 2048000,
      "rowLimit": 10000
     },
     "inputWidgets": {},
     "nuid": "0016f267-28b5-479f-bef7-a87cf2815494",
     "showTitle": false,
     "title": ""
    }
   },
   "outputs": [],
   "source": [
    "start_date = datetime.strptime(\"2021-01-01\", \"%Y-%m-%d\")\n",
    "end_date = datetime.strptime(\"2023-12-01\", \"%Y-%m-%d\")\n",
    "date_list = pd.date_range(start_date, end_date, freq='D')\n",
    "date_list_iso = date_list.strftime(\"%Y-%m-%d\")\n",
    "date_df = pd.DataFrame()\n",
    "date_df['DateISO'] = pd.to_datetime(date_list_iso)\n",
    "date_df[\"Year\"] = date_df['DateISO'].dt.year.apply(int)\n",
    "date_df[\"YearName\"] = date_df['DateISO'].dt.year.apply(str)\n",
    "date_df[\"MonthName\"] = date_df['DateISO'].dt.month.apply(str).str.zfill(2)\n",
    "date_df[\"MonthNumber\"] = date_df[\"MonthName\"].apply(int)\n",
    "date_df[\"DayName\"] = date_df['DateISO'].dt.day.apply(str).str.zfill(2)\n",
    "date_df[\"DayNumber\"] = date_df[\"DayName\"].apply(int)\n",
    "date_df[\"DateKey\"] = (date_df[\"YearName\"] + date_df[\"MonthName\"] + date_df[\"DayName\"]).apply(int)\n",
    "date_df = date_df[['DateKey', 'DateISO', 'Year', 'MonthNumber', 'MonthName', 'DayNumber', 'DayName']]"
   ]
  },
  {
   "cell_type": "code",
   "execution_count": 0,
   "metadata": {
    "application/vnd.databricks.v1+cell": {
     "cellMetadata": {
      "byteLimit": 2048000,
      "rowLimit": 10000
     },
     "inputWidgets": {},
     "nuid": "fa8c4dc5-792b-45a6-a732-51061f2f2845",
     "showTitle": false,
     "title": ""
    }
   },
   "outputs": [],
   "source": [
    "date_dim = spark.createDataFrame(date_df)"
   ]
  },
  {
   "cell_type": "code",
   "execution_count": 0,
   "metadata": {
    "application/vnd.databricks.v1+cell": {
     "cellMetadata": {
      "byteLimit": 2048000,
      "rowLimit": 10000
     },
     "inputWidgets": {},
     "nuid": "498c8725-5858-47a3-95b0-0fee7b3c2230",
     "showTitle": false,
     "title": ""
    }
   },
   "outputs": [],
   "source": [
    "date_dim = date_dim.withColumn(\"DateISO\", col(\"DateISO\").cast(\"date\"))"
   ]
  },
  {
   "cell_type": "code",
   "execution_count": 0,
   "metadata": {
    "application/vnd.databricks.v1+cell": {
     "cellMetadata": {
      "byteLimit": 2048000,
      "rowLimit": 10000
     },
     "inputWidgets": {},
     "nuid": "aaa0c736-3217-4017-a571-d25d8c70f5d0",
     "showTitle": false,
     "title": ""
    }
   },
   "outputs": [
    {
     "output_type": "stream",
     "name": "stdout",
     "output_type": "stream",
     "text": [
      "+--------+----------+----+-----------+---------+---------+-------+\n| DateKey|   DateISO|Year|MonthNumber|MonthName|DayNumber|DayName|\n+--------+----------+----+-----------+---------+---------+-------+\n|20210101|2021-01-01|2021|          1|       01|        1|     01|\n|20210102|2021-01-02|2021|          1|       01|        2|     02|\n|20210103|2021-01-03|2021|          1|       01|        3|     03|\n|20210104|2021-01-04|2021|          1|       01|        4|     04|\n|20210105|2021-01-05|2021|          1|       01|        5|     05|\n|20210106|2021-01-06|2021|          1|       01|        6|     06|\n|20210107|2021-01-07|2021|          1|       01|        7|     07|\n|20210108|2021-01-08|2021|          1|       01|        8|     08|\n|20210109|2021-01-09|2021|          1|       01|        9|     09|\n|20210110|2021-01-10|2021|          1|       01|       10|     10|\n+--------+----------+----+-----------+---------+---------+-------+\nonly showing top 10 rows\n\n"
     ]
    }
   ],
   "source": [
    "date_dim.show(10)"
   ]
  },
  {
   "cell_type": "code",
   "execution_count": 0,
   "metadata": {
    "application/vnd.databricks.v1+cell": {
     "cellMetadata": {
      "byteLimit": 2048000,
      "rowLimit": 10000
     },
     "inputWidgets": {},
     "nuid": "828ec7a0-b1a2-43b3-a323-ab2f6401e02f",
     "showTitle": false,
     "title": ""
    }
   },
   "outputs": [],
   "source": [
    "start_time = datetime.strptime(\"00:00:00\", \"%H:%M:%S\")\n",
    "end_time = datetime.strptime(\"23:59:59\", \"%H:%M:%S\")\n",
    "time_list = pd.date_range(start_time, end_time, freq='S')\n",
    "\n",
    "time_df = pd.DataFrame()\n",
    "time_df['TimeISO'] = time_list\n",
    "time_df[\"HourNumber\"] = (time_df['TimeISO'].dt.hour).astype(int)\n",
    "time_df[\"HourName\"] = time_df['TimeISO'].dt.hour.apply(str).str.zfill(2)\n",
    "time_df[\"MinuteNumber\"] = (time_df['TimeISO'].dt.minute).astype(int)\n",
    "time_df[\"MinuteName\"] = time_df['TimeISO'].dt.minute.apply(str).str.zfill(2)\n",
    "time_df[\"SecondNumber\"] = (time_df['TimeISO'].dt.second).astype(int)\n",
    "time_df[\"SecondName\"] = time_df['TimeISO'].dt.second.apply(str).str.zfill(2)\n",
    "time_df[\"TimeKey\"] = time_df[\"HourName\"] + time_df[\"MinuteName\"] + time_df[\"SecondName\"]\n",
    "\n",
    "time_df = time_df[['TimeKey', 'HourNumber', 'HourName', 'MinuteNumber', 'MinuteName', 'SecondNumber', 'SecondName']]"
   ]
  },
  {
   "cell_type": "code",
   "execution_count": 0,
   "metadata": {
    "application/vnd.databricks.v1+cell": {
     "cellMetadata": {
      "byteLimit": 2048000,
      "rowLimit": 10000
     },
     "inputWidgets": {},
     "nuid": "ccd16a1d-ceef-4ba7-a15c-b8e8b5e5a505",
     "showTitle": false,
     "title": ""
    }
   },
   "outputs": [],
   "source": [
    "time_dim = spark.createDataFrame(time_df)"
   ]
  },
  {
   "cell_type": "code",
   "execution_count": 0,
   "metadata": {
    "application/vnd.databricks.v1+cell": {
     "cellMetadata": {
      "byteLimit": 2048000,
      "rowLimit": 10000
     },
     "inputWidgets": {},
     "nuid": "cf54ffb8-df11-43b2-b9ac-344fef6bd3ff",
     "showTitle": false,
     "title": ""
    }
   },
   "outputs": [
    {
     "output_type": "stream",
     "name": "stdout",
     "output_type": "stream",
     "text": [
      "\u001B[43mNote: you may need to restart the kernel using dbutils.library.restartPython() to use updated packages.\u001B[0m\nRequirement already satisfied: shapely in /local_disk0/.ephemeral_nfs/envs/pythonEnv-19063045-67e4-4465-80d2-5579d261dd11/lib/python3.10/site-packages (2.0.2)\nRequirement already satisfied: numpy>=1.14 in /databricks/python3/lib/python3.10/site-packages (from shapely) (1.23.5)\n\u001B[43mNote: you may need to restart the kernel using dbutils.library.restartPython() to use updated packages.\u001B[0m\n"
     ]
    }
   ],
   "source": [
    "!pip install shapely"
   ]
  },
  {
   "cell_type": "code",
   "execution_count": 0,
   "metadata": {
    "application/vnd.databricks.v1+cell": {
     "cellMetadata": {
      "byteLimit": 2048000,
      "rowLimit": 10000
     },
     "inputWidgets": {},
     "nuid": "42f45e33-6dd7-4d3d-9a39-8ed6c797aceb",
     "showTitle": false,
     "title": ""
    }
   },
   "outputs": [],
   "source": [
    "def extract_location(r):\n",
    "    from shapely import wkt\n",
    "    r.dropna()\n",
    "    latitude_list = []\n",
    "    longitude_list = []\n",
    "    for s in r:\n",
    "        if s is not None:\n",
    "            point = wkt.loads(s)\n",
    "            latitude_list.append(point.y)\n",
    "            longitude_list.append(point.x)\n",
    "\n",
    "    df = pd.DataFrame({'PointString': r,\n",
    "                   'Latitude': latitude_list,\n",
    "                   'Longitude': longitude_list})\n",
    "    return df"
   ]
  },
  {
   "cell_type": "code",
   "execution_count": 0,
   "metadata": {
    "application/vnd.databricks.v1+cell": {
     "cellMetadata": {
      "byteLimit": 2048000,
      "rowLimit": 10000
     },
     "inputWidgets": {},
     "nuid": "439bdb63-c620-4eb8-81a1-00f27d1f23c9",
     "showTitle": false,
     "title": ""
    }
   },
   "outputs": [
    {
     "output_type": "execute_result",
     "data": {
      "text/html": [
       "<div>\n",
       "<style scoped>\n",
       "    .dataframe tbody tr th:only-of-type {\n",
       "        vertical-align: middle;\n",
       "    }\n",
       "\n",
       "    .dataframe tbody tr th {\n",
       "        vertical-align: top;\n",
       "    }\n",
       "\n",
       "    .dataframe thead th {\n",
       "        text-align: right;\n",
       "    }\n",
       "</style>\n",
       "<table border=\"1\" class=\"dataframe\">\n",
       "  <thead>\n",
       "    <tr style=\"text-align: right;\">\n",
       "      <th></th>\n",
       "      <th>PointString</th>\n",
       "      <th>Latitude</th>\n",
       "      <th>Longitude</th>\n",
       "    </tr>\n",
       "  </thead>\n",
       "  <tbody>\n",
       "    <tr>\n",
       "      <th>0</th>\n",
       "      <td>POINT (-97.796646 30.469118)</td>\n",
       "      <td>30.469118</td>\n",
       "      <td>-97.796646</td>\n",
       "    </tr>\n",
       "    <tr>\n",
       "      <th>1</th>\n",
       "      <td>POINT (-97.751737 30.244513)</td>\n",
       "      <td>30.244513</td>\n",
       "      <td>-97.751737</td>\n",
       "    </tr>\n",
       "    <tr>\n",
       "      <th>2</th>\n",
       "      <td>POINT (-97.781705 30.243875)</td>\n",
       "      <td>30.243875</td>\n",
       "      <td>-97.781705</td>\n",
       "    </tr>\n",
       "    <tr>\n",
       "      <th>3</th>\n",
       "      <td>POINT (-97.717606 30.402287)</td>\n",
       "      <td>30.402287</td>\n",
       "      <td>-97.717606</td>\n",
       "    </tr>\n",
       "    <tr>\n",
       "      <th>4</th>\n",
       "      <td>POINT (-97.78566 30.371674)</td>\n",
       "      <td>30.371674</td>\n",
       "      <td>-97.785660</td>\n",
       "    </tr>\n",
       "  </tbody>\n",
       "</table>\n",
       "</div>"
      ],
      "text/plain": [
       "                    PointString   Latitude  Longitude\n",
       "0  POINT (-97.796646 30.469118)  30.469118 -97.796646\n",
       "1  POINT (-97.751737 30.244513)  30.244513 -97.751737\n",
       "2  POINT (-97.781705 30.243875)  30.243875 -97.781705\n",
       "3  POINT (-97.717606 30.402287)  30.402287 -97.717606\n",
       "4   POINT (-97.78566 30.371674)  30.371674 -97.785660"
      ]
     },
     "execution_count": 121,
     "metadata": {},
     "output_type": "execute_result"
    }
   ],
   "source": [
    "df = sensors_raw.toPandas()\n",
    "df.dropna(subset=['LOCATION'], inplace=True)\n",
    "locationsdf = extract_location(df[\"LOCATION\"])\n",
    "locationsdf.head()"
   ]
  },
  {
   "cell_type": "code",
   "execution_count": 0,
   "metadata": {
    "application/vnd.databricks.v1+cell": {
     "cellMetadata": {
      "byteLimit": 2048000,
      "rowLimit": 10000
     },
     "inputWidgets": {},
     "nuid": "c25abad5-a356-43e9-9938-8a1703eef022",
     "showTitle": false,
     "title": ""
    }
   },
   "outputs": [
    {
     "output_type": "execute_result",
     "data": {
      "text/plain": [
       "PointString     object\n",
       "Latitude       float64\n",
       "Longitude      float64\n",
       "dtype: object"
      ]
     },
     "execution_count": 122,
     "metadata": {},
     "output_type": "execute_result"
    }
   ],
   "source": [
    "locationsdf.dtypes"
   ]
  },
  {
   "cell_type": "code",
   "execution_count": 0,
   "metadata": {
    "application/vnd.databricks.v1+cell": {
     "cellMetadata": {
      "byteLimit": 2048000,
      "rowLimit": 10000
     },
     "inputWidgets": {},
     "nuid": "77078f60-11ac-4c59-bedd-10b29b1be3ea",
     "showTitle": false,
     "title": ""
    }
   },
   "outputs": [],
   "source": [
    "def string_to_loc(original_loc_column):\n",
    "    latitude_list = []\n",
    "    longitude_list = []\n",
    "    for s in original_loc_column:\n",
    "        coordinates_str = s.strip('()')\n",
    "        latitude_str, longitude_str = coordinates_str.split(\", \")\n",
    "        latitude_list.append(float(latitude_str))\n",
    "        longitude_list.append(float(longitude_str))\n",
    "    df = pd.DataFrame({'PointString': original_loc_column,\n",
    "                   'Latitude': latitude_list,\n",
    "                   'Longitude': longitude_list})\n",
    "    return df"
   ]
  },
  {
   "cell_type": "code",
   "execution_count": 0,
   "metadata": {
    "application/vnd.databricks.v1+cell": {
     "cellMetadata": {
      "byteLimit": 2048000,
      "rowLimit": 10000
     },
     "inputWidgets": {},
     "nuid": "fdb245c7-6088-41ee-85f8-97076c999e52",
     "showTitle": false,
     "title": ""
    }
   },
   "outputs": [
    {
     "output_type": "stream",
     "name": "stderr",
     "output_type": "stream",
     "text": [
      "/root/.ipykernel/589531/command-3471958176486951-1161582401:3: FutureWarning: The frame.append method is deprecated and will be removed from pandas in a future version. Use pandas.concat instead.\n  locationsdf = locationsdf.append(string_to_loc(df2['Location']), ignore_index=True)\n"
     ]
    }
   ],
   "source": [
    "df2 = kiosks_raw.toPandas()\n",
    "df2.dropna(subset=['Location'], inplace=True)\n",
    "locationsdf = locationsdf.append(string_to_loc(df2['Location']), ignore_index=True)"
   ]
  },
  {
   "cell_type": "code",
   "execution_count": 0,
   "metadata": {
    "application/vnd.databricks.v1+cell": {
     "cellMetadata": {
      "byteLimit": 2048000,
      "rowLimit": 10000
     },
     "inputWidgets": {},
     "nuid": "9d9da63c-b2d0-4aa8-b167-47ba1dda1bae",
     "showTitle": false,
     "title": ""
    }
   },
   "outputs": [
    {
     "output_type": "execute_result",
     "data": {
      "text/plain": [
       "PointString     object\n",
       "Latitude       float64\n",
       "Longitude      float64\n",
       "dtype: object"
      ]
     },
     "execution_count": 125,
     "metadata": {},
     "output_type": "execute_result"
    }
   ],
   "source": [
    "locationsdf.dtypes"
   ]
  },
  {
   "cell_type": "code",
   "execution_count": 0,
   "metadata": {
    "application/vnd.databricks.v1+cell": {
     "cellMetadata": {
      "byteLimit": 2048000,
      "rowLimit": 10000
     },
     "inputWidgets": {},
     "nuid": "964d5667-376b-45c6-8557-d36e3cdd1bc7",
     "showTitle": false,
     "title": ""
    }
   },
   "outputs": [],
   "source": [
    "locationsdf[\"LocationKey\"] = np.arange(1, len(locationsdf) + 1).tolist()"
   ]
  },
  {
   "cell_type": "code",
   "execution_count": 0,
   "metadata": {
    "application/vnd.databricks.v1+cell": {
     "cellMetadata": {
      "byteLimit": 2048000,
      "rowLimit": 10000
     },
     "inputWidgets": {},
     "nuid": "fe2c1a1a-5b8e-4cdd-8aee-1785652473f2",
     "showTitle": false,
     "title": ""
    }
   },
   "outputs": [
    {
     "output_type": "execute_result",
     "data": {
      "text/html": [
       "<div>\n",
       "<style scoped>\n",
       "    .dataframe tbody tr th:only-of-type {\n",
       "        vertical-align: middle;\n",
       "    }\n",
       "\n",
       "    .dataframe tbody tr th {\n",
       "        vertical-align: top;\n",
       "    }\n",
       "\n",
       "    .dataframe thead th {\n",
       "        text-align: right;\n",
       "    }\n",
       "</style>\n",
       "<table border=\"1\" class=\"dataframe\">\n",
       "  <thead>\n",
       "    <tr style=\"text-align: right;\">\n",
       "      <th></th>\n",
       "      <th>PointString</th>\n",
       "      <th>Latitude</th>\n",
       "      <th>Longitude</th>\n",
       "      <th>LocationKey</th>\n",
       "    </tr>\n",
       "  </thead>\n",
       "  <tbody>\n",
       "    <tr>\n",
       "      <th>140</th>\n",
       "      <td>(30.283, -97.7375)</td>\n",
       "      <td>30.283000</td>\n",
       "      <td>-97.737500</td>\n",
       "      <td>141</td>\n",
       "    </tr>\n",
       "    <tr>\n",
       "      <th>141</th>\n",
       "      <td>(30.2856, -97.7335)</td>\n",
       "      <td>30.285600</td>\n",
       "      <td>-97.733500</td>\n",
       "      <td>142</td>\n",
       "    </tr>\n",
       "    <tr>\n",
       "      <th>142</th>\n",
       "      <td>(30.29068, -97.74292)</td>\n",
       "      <td>30.290680</td>\n",
       "      <td>-97.742920</td>\n",
       "      <td>143</td>\n",
       "    </tr>\n",
       "    <tr>\n",
       "      <th>143</th>\n",
       "      <td>(30.28728, -97.74495)</td>\n",
       "      <td>30.287280</td>\n",
       "      <td>-97.744950</td>\n",
       "      <td>144</td>\n",
       "    </tr>\n",
       "    <tr>\n",
       "      <th>144</th>\n",
       "      <td>(30.27059, -97.74441)</td>\n",
       "      <td>30.270590</td>\n",
       "      <td>-97.744410</td>\n",
       "      <td>145</td>\n",
       "    </tr>\n",
       "    <tr>\n",
       "      <th>145</th>\n",
       "      <td>(30.25495, -97.74755)</td>\n",
       "      <td>30.254950</td>\n",
       "      <td>-97.747550</td>\n",
       "      <td>146</td>\n",
       "    </tr>\n",
       "    <tr>\n",
       "      <th>146</th>\n",
       "      <td>(30.27489, -97.76483)</td>\n",
       "      <td>30.274890</td>\n",
       "      <td>-97.764830</td>\n",
       "      <td>147</td>\n",
       "    </tr>\n",
       "    <tr>\n",
       "      <th>147</th>\n",
       "      <td>(30.27024, -97.73578)</td>\n",
       "      <td>30.270240</td>\n",
       "      <td>-97.735780</td>\n",
       "      <td>148</td>\n",
       "    </tr>\n",
       "    <tr>\n",
       "      <th>148</th>\n",
       "      <td>(30.26888, -97.72431)</td>\n",
       "      <td>30.268880</td>\n",
       "      <td>-97.724310</td>\n",
       "      <td>149</td>\n",
       "    </tr>\n",
       "    <tr>\n",
       "      <th>149</th>\n",
       "      <td>(30.26969, -97.71873)</td>\n",
       "      <td>30.269690</td>\n",
       "      <td>-97.718730</td>\n",
       "      <td>150</td>\n",
       "    </tr>\n",
       "    <tr>\n",
       "      <th>150</th>\n",
       "      <td>(30.26638, -97.7214)</td>\n",
       "      <td>30.266380</td>\n",
       "      <td>-97.721400</td>\n",
       "      <td>151</td>\n",
       "    </tr>\n",
       "    <tr>\n",
       "      <th>151</th>\n",
       "      <td>(30.26269, -97.72438)</td>\n",
       "      <td>30.262690</td>\n",
       "      <td>-97.724380</td>\n",
       "      <td>152</td>\n",
       "    </tr>\n",
       "    <tr>\n",
       "      <th>152</th>\n",
       "      <td>(30.26139, -97.77234)</td>\n",
       "      <td>30.261390</td>\n",
       "      <td>-97.772340</td>\n",
       "      <td>153</td>\n",
       "    </tr>\n",
       "    <tr>\n",
       "      <th>153</th>\n",
       "      <td>(30.252, -97.7346)</td>\n",
       "      <td>30.252000</td>\n",
       "      <td>-97.734600</td>\n",
       "      <td>154</td>\n",
       "    </tr>\n",
       "    <tr>\n",
       "      <th>154</th>\n",
       "      <td>(30.26214, -97.7387)</td>\n",
       "      <td>30.262140</td>\n",
       "      <td>-97.738700</td>\n",
       "      <td>155</td>\n",
       "    </tr>\n",
       "    <tr>\n",
       "      <th>155</th>\n",
       "      <td>(30.24472, -97.72336)</td>\n",
       "      <td>30.244720</td>\n",
       "      <td>-97.723360</td>\n",
       "      <td>156</td>\n",
       "    </tr>\n",
       "    <tr>\n",
       "      <th>156</th>\n",
       "      <td>(30.24258, -97.71726)</td>\n",
       "      <td>30.242580</td>\n",
       "      <td>-97.717260</td>\n",
       "      <td>157</td>\n",
       "    </tr>\n",
       "    <tr>\n",
       "      <th>157</th>\n",
       "      <td>(30.25212, -97.69807)</td>\n",
       "      <td>30.252120</td>\n",
       "      <td>-97.698070</td>\n",
       "      <td>158</td>\n",
       "    </tr>\n",
       "    <tr>\n",
       "      <th>158</th>\n",
       "      <td>(30.27924, -97.74371)</td>\n",
       "      <td>30.279240</td>\n",
       "      <td>-97.743710</td>\n",
       "      <td>159</td>\n",
       "    </tr>\n",
       "    <tr>\n",
       "      <th>159</th>\n",
       "      <td>(30.244961, -97.751272)</td>\n",
       "      <td>30.244961</td>\n",
       "      <td>-97.751272</td>\n",
       "      <td>160</td>\n",
       "    </tr>\n",
       "  </tbody>\n",
       "</table>\n",
       "</div>"
      ],
      "text/plain": [
       "                 PointString   Latitude  Longitude  LocationKey\n",
       "140       (30.283, -97.7375)  30.283000 -97.737500          141\n",
       "141      (30.2856, -97.7335)  30.285600 -97.733500          142\n",
       "142    (30.29068, -97.74292)  30.290680 -97.742920          143\n",
       "143    (30.28728, -97.74495)  30.287280 -97.744950          144\n",
       "144    (30.27059, -97.74441)  30.270590 -97.744410          145\n",
       "145    (30.25495, -97.74755)  30.254950 -97.747550          146\n",
       "146    (30.27489, -97.76483)  30.274890 -97.764830          147\n",
       "147    (30.27024, -97.73578)  30.270240 -97.735780          148\n",
       "148    (30.26888, -97.72431)  30.268880 -97.724310          149\n",
       "149    (30.26969, -97.71873)  30.269690 -97.718730          150\n",
       "150     (30.26638, -97.7214)  30.266380 -97.721400          151\n",
       "151    (30.26269, -97.72438)  30.262690 -97.724380          152\n",
       "152    (30.26139, -97.77234)  30.261390 -97.772340          153\n",
       "153       (30.252, -97.7346)  30.252000 -97.734600          154\n",
       "154     (30.26214, -97.7387)  30.262140 -97.738700          155\n",
       "155    (30.24472, -97.72336)  30.244720 -97.723360          156\n",
       "156    (30.24258, -97.71726)  30.242580 -97.717260          157\n",
       "157    (30.25212, -97.69807)  30.252120 -97.698070          158\n",
       "158    (30.27924, -97.74371)  30.279240 -97.743710          159\n",
       "159  (30.244961, -97.751272)  30.244961 -97.751272          160"
      ]
     },
     "execution_count": 152,
     "metadata": {},
     "output_type": "execute_result"
    }
   ],
   "source": [
    "locationsdf.tail(20)"
   ]
  },
  {
   "cell_type": "code",
   "execution_count": 0,
   "metadata": {
    "application/vnd.databricks.v1+cell": {
     "cellMetadata": {
      "byteLimit": 2048000,
      "rowLimit": 10000
     },
     "inputWidgets": {},
     "nuid": "aa4bfcd1-6f00-4a46-9155-62a10a24a16d",
     "showTitle": false,
     "title": ""
    }
   },
   "outputs": [],
   "source": [
    "location_dim =  spark.createDataFrame(locationsdf[[\"LocationKey\", \"Latitude\", \"Longitude\"]])"
   ]
  },
  {
   "cell_type": "code",
   "execution_count": 0,
   "metadata": {
    "application/vnd.databricks.v1+cell": {
     "cellMetadata": {
      "byteLimit": 2048000,
      "rowLimit": 10000
     },
     "inputWidgets": {},
     "nuid": "edd18cba-dc0c-4380-a99b-caae1ec030be",
     "showTitle": false,
     "title": ""
    }
   },
   "outputs": [
    {
     "output_type": "execute_result",
     "data": {
      "text/plain": [
       "TripID                           int64\n",
       "MembershiporPassType            object\n",
       "BicycleID                      float64\n",
       "BikeType                        object\n",
       "CheckoutDatetime                object\n",
       "CheckoutDate                    object\n",
       "CheckoutTime            datetime64[ns]\n",
       "CheckoutKioskID                 object\n",
       "CheckoutKiosk                   object\n",
       "ReturnKioskID                   object\n",
       "ReturnKiosk                     object\n",
       "TripDurationMinutes              int64\n",
       "Month                            int64\n",
       "Year                             int64\n",
       "dtype: object"
      ]
     },
     "execution_count": 129,
     "metadata": {},
     "output_type": "execute_result"
    }
   ],
   "source": [
    "trips_df = trips_raw.toPandas()\n",
    "trips_df.dtypes"
   ]
  },
  {
   "cell_type": "code",
   "execution_count": 0,
   "metadata": {
    "application/vnd.databricks.v1+cell": {
     "cellMetadata": {
      "byteLimit": 2048000,
      "rowLimit": 10000
     },
     "inputWidgets": {},
     "nuid": "7d1de495-3f07-4365-a24e-c12165c96bc7",
     "showTitle": false,
     "title": ""
    }
   },
   "outputs": [],
   "source": [
    "trips_df.replace([np.inf, -np.inf], np.nan, inplace=True)\n",
    "trips_df.dropna(subset=['BicycleID'], inplace=True)\n",
    "trips_df[\"BicycleID\"] = trips_df[\"BicycleID\"].astype(int)"
   ]
  },
  {
   "cell_type": "code",
   "execution_count": 0,
   "metadata": {
    "application/vnd.databricks.v1+cell": {
     "cellMetadata": {
      "byteLimit": 2048000,
      "rowLimit": 10000
     },
     "inputWidgets": {},
     "nuid": "8a848dc2-fbd6-4927-b103-003d24c48d4a",
     "showTitle": false,
     "title": ""
    }
   },
   "outputs": [],
   "source": [
    "dfg = trips_df.groupby(by=[\"BicycleID\", \"BikeType\"]).size().to_frame().reset_index()\n",
    "dfg = dfg.iloc[: , :-1]\n",
    "bike_dim =  spark.createDataFrame(dfg)"
   ]
  },
  {
   "cell_type": "markdown",
   "metadata": {
    "application/vnd.databricks.v1+cell": {
     "cellMetadata": {
      "byteLimit": 2048000,
      "rowLimit": 10000
     },
     "inputWidgets": {},
     "nuid": "a20fb946-22f2-4b39-91d5-b2513f1d380e",
     "showTitle": false,
     "title": ""
    }
   },
   "source": [
    "Fact Tables"
   ]
  },
  {
   "cell_type": "code",
   "execution_count": 0,
   "metadata": {
    "application/vnd.databricks.v1+cell": {
     "cellMetadata": {
      "byteLimit": 2048000,
      "rowLimit": 10000
     },
     "inputWidgets": {},
     "nuid": "84b8cfa2-dc26-478b-9201-e8d3e506a30d",
     "showTitle": false,
     "title": ""
    }
   },
   "outputs": [
    {
     "output_type": "execute_result",
     "data": {
      "text/html": [
       "<div>\n",
       "<style scoped>\n",
       "    .dataframe tbody tr th:only-of-type {\n",
       "        vertical-align: middle;\n",
       "    }\n",
       "\n",
       "    .dataframe tbody tr th {\n",
       "        vertical-align: top;\n",
       "    }\n",
       "\n",
       "    .dataframe thead th {\n",
       "        text-align: right;\n",
       "    }\n",
       "</style>\n",
       "<table border=\"1\" class=\"dataframe\">\n",
       "  <thead>\n",
       "    <tr style=\"text-align: right;\">\n",
       "      <th></th>\n",
       "      <th>TripID</th>\n",
       "      <th>MembershiporPassType</th>\n",
       "      <th>BicycleID</th>\n",
       "      <th>BikeType</th>\n",
       "      <th>CheckoutDatetime</th>\n",
       "      <th>CheckoutDate</th>\n",
       "      <th>CheckoutTime</th>\n",
       "      <th>CheckoutKioskID</th>\n",
       "      <th>CheckoutKiosk</th>\n",
       "      <th>ReturnKioskID</th>\n",
       "      <th>ReturnKiosk</th>\n",
       "      <th>TripDurationMinutes</th>\n",
       "      <th>Month</th>\n",
       "      <th>Year</th>\n",
       "    </tr>\n",
       "  </thead>\n",
       "  <tbody>\n",
       "    <tr>\n",
       "      <th>0</th>\n",
       "      <td>10368110</td>\n",
       "      <td>Walk Up</td>\n",
       "      <td>429</td>\n",
       "      <td>classic</td>\n",
       "      <td>06/08/2016 02:14:15 PM</td>\n",
       "      <td>2016-06-08</td>\n",
       "      <td>2023-12-08 14:14:15</td>\n",
       "      <td>3377.0</td>\n",
       "      <td>MoPac Pedestrian Bridge @ Veterans Drive</td>\n",
       "      <td>3377.0</td>\n",
       "      <td>MoPac Pedestrian Bridge @ Veterans Drive</td>\n",
       "      <td>44</td>\n",
       "      <td>6</td>\n",
       "      <td>2016</td>\n",
       "    </tr>\n",
       "    <tr>\n",
       "      <th>1</th>\n",
       "      <td>10368119</td>\n",
       "      <td>Walk Up</td>\n",
       "      <td>897</td>\n",
       "      <td>classic</td>\n",
       "      <td>06/08/2016 02:14:49 PM</td>\n",
       "      <td>2016-06-08</td>\n",
       "      <td>2023-12-08 14:14:49</td>\n",
       "      <td>3377.0</td>\n",
       "      <td>MoPac Pedestrian Bridge @ Veterans Drive</td>\n",
       "      <td>3377.0</td>\n",
       "      <td>MoPac Pedestrian Bridge @ Veterans Drive</td>\n",
       "      <td>44</td>\n",
       "      <td>6</td>\n",
       "      <td>2016</td>\n",
       "    </tr>\n",
       "    <tr>\n",
       "      <th>2</th>\n",
       "      <td>10368132</td>\n",
       "      <td>Walk Up</td>\n",
       "      <td>712</td>\n",
       "      <td>classic</td>\n",
       "      <td>06/08/2016 02:16:00 PM</td>\n",
       "      <td>2016-06-08</td>\n",
       "      <td>2023-12-08 14:16:00</td>\n",
       "      <td>3377.0</td>\n",
       "      <td>MoPac Pedestrian Bridge @ Veterans Drive</td>\n",
       "      <td>3377.0</td>\n",
       "      <td>MoPac Pedestrian Bridge @ Veterans Drive</td>\n",
       "      <td>39</td>\n",
       "      <td>6</td>\n",
       "      <td>2016</td>\n",
       "    </tr>\n",
       "    <tr>\n",
       "      <th>3</th>\n",
       "      <td>10368143</td>\n",
       "      <td>Walk Up</td>\n",
       "      <td>362</td>\n",
       "      <td>classic</td>\n",
       "      <td>06/08/2016 02:16:37 PM</td>\n",
       "      <td>2016-06-08</td>\n",
       "      <td>2023-12-08 14:16:37</td>\n",
       "      <td>3377.0</td>\n",
       "      <td>MoPac Pedestrian Bridge @ Veterans Drive</td>\n",
       "      <td>3377.0</td>\n",
       "      <td>MoPac Pedestrian Bridge @ Veterans Drive</td>\n",
       "      <td>42</td>\n",
       "      <td>6</td>\n",
       "      <td>2016</td>\n",
       "    </tr>\n",
       "    <tr>\n",
       "      <th>4</th>\n",
       "      <td>10368151</td>\n",
       "      <td>Walk Up</td>\n",
       "      <td>22</td>\n",
       "      <td>classic</td>\n",
       "      <td>06/08/2016 02:17:26 PM</td>\n",
       "      <td>2016-06-08</td>\n",
       "      <td>2023-12-08 14:17:26</td>\n",
       "      <td>3377.0</td>\n",
       "      <td>MoPac Pedestrian Bridge @ Veterans Drive</td>\n",
       "      <td>3377.0</td>\n",
       "      <td>MoPac Pedestrian Bridge @ Veterans Drive</td>\n",
       "      <td>38</td>\n",
       "      <td>6</td>\n",
       "      <td>2016</td>\n",
       "    </tr>\n",
       "  </tbody>\n",
       "</table>\n",
       "</div>"
      ],
      "text/plain": [
       "     TripID MembershiporPassType  BicycleID  ... TripDurationMinutes Month  Year\n",
       "0  10368110              Walk Up        429  ...                  44     6  2016\n",
       "1  10368119              Walk Up        897  ...                  44     6  2016\n",
       "2  10368132              Walk Up        712  ...                  39     6  2016\n",
       "3  10368143              Walk Up        362  ...                  42     6  2016\n",
       "4  10368151              Walk Up         22  ...                  38     6  2016\n",
       "\n",
       "[5 rows x 14 columns]"
      ]
     },
     "execution_count": 132,
     "metadata": {},
     "output_type": "execute_result"
    }
   ],
   "source": [
    "trips_df.head()"
   ]
  },
  {
   "cell_type": "code",
   "execution_count": 0,
   "metadata": {
    "application/vnd.databricks.v1+cell": {
     "cellMetadata": {
      "byteLimit": 2048000,
      "rowLimit": 10000
     },
     "inputWidgets": {},
     "nuid": "4ce6070d-a18c-4abe-bff5-d4640a3d0e63",
     "showTitle": false,
     "title": ""
    }
   },
   "outputs": [
    {
     "output_type": "stream",
     "name": "stderr",
     "output_type": "stream",
     "text": [
      "/root/.ipykernel/589531/command-3471958176486960-1236736235:2: SettingWithCopyWarning: \nA value is trying to be set on a copy of a slice from a DataFrame\n\nSee the caveats in the documentation: https://pandas.pydata.org/pandas-docs/stable/user_guide/indexing.html#returning-a-view-versus-a-copy\n  filtered_trips_df.dropna(subset=['CheckoutDatetime'], inplace=True)\n/root/.ipykernel/589531/command-3471958176486960-1236736235:3: SettingWithCopyWarning: \nA value is trying to be set on a copy of a slice from a DataFrame\n\nSee the caveats in the documentation: https://pandas.pydata.org/pandas-docs/stable/user_guide/indexing.html#returning-a-view-versus-a-copy\n  filtered_trips_df.dropna(subset=['CheckoutDate'], inplace=True)\n/root/.ipykernel/589531/command-3471958176486960-1236736235:4: SettingWithCopyWarning: \nA value is trying to be set on a copy of a slice from a DataFrame\n\nSee the caveats in the documentation: https://pandas.pydata.org/pandas-docs/stable/user_guide/indexing.html#returning-a-view-versus-a-copy\n  filtered_trips_df.dropna(subset=['CheckoutTime'], inplace=True)\n/root/.ipykernel/589531/command-3471958176486960-1236736235:5: SettingWithCopyWarning: \nA value is trying to be set on a copy of a slice from a DataFrame\n\nSee the caveats in the documentation: https://pandas.pydata.org/pandas-docs/stable/user_guide/indexing.html#returning-a-view-versus-a-copy\n  filtered_trips_df.dropna(subset=['CheckoutKioskID'], inplace=True)\n/root/.ipykernel/589531/command-3471958176486960-1236736235:6: SettingWithCopyWarning: \nA value is trying to be set on a copy of a slice from a DataFrame\n\nSee the caveats in the documentation: https://pandas.pydata.org/pandas-docs/stable/user_guide/indexing.html#returning-a-view-versus-a-copy\n  filtered_trips_df.dropna(subset=['ReturnKioskID'], inplace=True)\n/root/.ipykernel/589531/command-3471958176486960-1236736235:7: SettingWithCopyWarning: \nA value is trying to be set on a copy of a slice from a DataFrame\n\nSee the caveats in the documentation: https://pandas.pydata.org/pandas-docs/stable/user_guide/indexing.html#returning-a-view-versus-a-copy\n  filtered_trips_df.dropna(subset=['TripDurationMinutes'], inplace=True)\n/root/.ipykernel/589531/command-3471958176486960-1236736235:8: SettingWithCopyWarning: \nA value is trying to be set on a copy of a slice from a DataFrame\n\nSee the caveats in the documentation: https://pandas.pydata.org/pandas-docs/stable/user_guide/indexing.html#returning-a-view-versus-a-copy\n  filtered_trips_df.dropna(subset=['TripID'], inplace=True)\n/root/.ipykernel/589531/command-3471958176486960-1236736235:9: SettingWithCopyWarning: \nA value is trying to be set on a copy of a slice from a DataFrame\n\nSee the caveats in the documentation: https://pandas.pydata.org/pandas-docs/stable/user_guide/indexing.html#returning-a-view-versus-a-copy\n  filtered_trips_df.dropna(subset=['MembershiporPassType'], inplace=True)\n/root/.ipykernel/589531/command-3471958176486960-1236736235:10: SettingWithCopyWarning: \nA value is trying to be set on a copy of a slice from a DataFrame\n\nSee the caveats in the documentation: https://pandas.pydata.org/pandas-docs/stable/user_guide/indexing.html#returning-a-view-versus-a-copy\n  filtered_trips_df.dropna(subset=['BicycleID'], inplace=True)\n"
     ]
    },
    {
     "output_type": "execute_result",
     "data": {
      "text/html": [
       "<div>\n",
       "<style scoped>\n",
       "    .dataframe tbody tr th:only-of-type {\n",
       "        vertical-align: middle;\n",
       "    }\n",
       "\n",
       "    .dataframe tbody tr th {\n",
       "        vertical-align: top;\n",
       "    }\n",
       "\n",
       "    .dataframe thead th {\n",
       "        text-align: right;\n",
       "    }\n",
       "</style>\n",
       "<table border=\"1\" class=\"dataframe\">\n",
       "  <thead>\n",
       "    <tr style=\"text-align: right;\">\n",
       "      <th></th>\n",
       "      <th>TripID</th>\n",
       "      <th>MembershiporPassType</th>\n",
       "      <th>BicycleID</th>\n",
       "      <th>BikeType</th>\n",
       "      <th>CheckoutDatetime</th>\n",
       "      <th>CheckoutDate</th>\n",
       "      <th>CheckoutTime</th>\n",
       "      <th>CheckoutKioskID</th>\n",
       "      <th>CheckoutKiosk</th>\n",
       "      <th>ReturnKioskID</th>\n",
       "      <th>ReturnKiosk</th>\n",
       "      <th>TripDurationMinutes</th>\n",
       "      <th>Month</th>\n",
       "      <th>Year</th>\n",
       "    </tr>\n",
       "  </thead>\n",
       "  <tbody>\n",
       "    <tr>\n",
       "      <th>59</th>\n",
       "      <td>30124963</td>\n",
       "      <td>Student Membership</td>\n",
       "      <td>17751</td>\n",
       "      <td>electric</td>\n",
       "      <td>07/05/2023 03:11:38 PM</td>\n",
       "      <td>2023-07-05</td>\n",
       "      <td>2023-12-08 15:11:38</td>\n",
       "      <td>3798.0</td>\n",
       "      <td>21st/Speedway @ PCL</td>\n",
       "      <td>3798.0</td>\n",
       "      <td>23rd/Pearl</td>\n",
       "      <td>6</td>\n",
       "      <td>7</td>\n",
       "      <td>2023</td>\n",
       "    </tr>\n",
       "    <tr>\n",
       "      <th>614</th>\n",
       "      <td>25800691</td>\n",
       "      <td>Student Membership</td>\n",
       "      <td>21829</td>\n",
       "      <td>electric</td>\n",
       "      <td>12/12/2021 04:43:52 PM</td>\n",
       "      <td>2021-12-12</td>\n",
       "      <td>2023-12-08 16:43:52</td>\n",
       "      <td>2572.0</td>\n",
       "      <td>Barton Springs Pool</td>\n",
       "      <td>3684.0</td>\n",
       "      <td>Cesar Chavez/Congress</td>\n",
       "      <td>40</td>\n",
       "      <td>12</td>\n",
       "      <td>2021</td>\n",
       "    </tr>\n",
       "    <tr>\n",
       "      <th>1018</th>\n",
       "      <td>30125060</td>\n",
       "      <td>Explorer</td>\n",
       "      <td>18939</td>\n",
       "      <td>electric</td>\n",
       "      <td>07/05/2023 03:24:30 PM</td>\n",
       "      <td>2023-07-05</td>\n",
       "      <td>2023-12-08 15:24:30</td>\n",
       "      <td>3619.0</td>\n",
       "      <td>6th/Congress</td>\n",
       "      <td>3619.0</td>\n",
       "      <td>21st/Speedway @ PCL</td>\n",
       "      <td>181</td>\n",
       "      <td>7</td>\n",
       "      <td>2023</td>\n",
       "    </tr>\n",
       "    <tr>\n",
       "      <th>1099</th>\n",
       "      <td>30125063</td>\n",
       "      <td>Explorer</td>\n",
       "      <td>21849</td>\n",
       "      <td>electric</td>\n",
       "      <td>07/05/2023 03:24:46 PM</td>\n",
       "      <td>2023-07-05</td>\n",
       "      <td>2023-12-08 15:24:46</td>\n",
       "      <td>3619.0</td>\n",
       "      <td>6th/Congress</td>\n",
       "      <td>3619.0</td>\n",
       "      <td>6th/Trinity</td>\n",
       "      <td>255</td>\n",
       "      <td>7</td>\n",
       "      <td>2023</td>\n",
       "    </tr>\n",
       "    <tr>\n",
       "      <th>1389</th>\n",
       "      <td>25800774</td>\n",
       "      <td>Student Membership</td>\n",
       "      <td>21803</td>\n",
       "      <td>electric</td>\n",
       "      <td>12/12/2021 04:56:24 PM</td>\n",
       "      <td>2021-12-12</td>\n",
       "      <td>2023-12-08 16:56:24</td>\n",
       "      <td>2548.0</td>\n",
       "      <td>Guadalupe/West Mall @ University Co-op</td>\n",
       "      <td>3795.0</td>\n",
       "      <td>Dean Keeton/Whitis</td>\n",
       "      <td>10</td>\n",
       "      <td>12</td>\n",
       "      <td>2021</td>\n",
       "    </tr>\n",
       "    <tr>\n",
       "      <th>...</th>\n",
       "      <td>...</td>\n",
       "      <td>...</td>\n",
       "      <td>...</td>\n",
       "      <td>...</td>\n",
       "      <td>...</td>\n",
       "      <td>...</td>\n",
       "      <td>...</td>\n",
       "      <td>...</td>\n",
       "      <td>...</td>\n",
       "      <td>...</td>\n",
       "      <td>...</td>\n",
       "      <td>...</td>\n",
       "      <td>...</td>\n",
       "      <td>...</td>\n",
       "    </tr>\n",
       "    <tr>\n",
       "      <th>2085958</th>\n",
       "      <td>31381259</td>\n",
       "      <td>Local31</td>\n",
       "      <td>19271</td>\n",
       "      <td>electric</td>\n",
       "      <td>10/06/2023 06:06:41 PM</td>\n",
       "      <td>2023-10-06</td>\n",
       "      <td>2023-12-08 18:06:41</td>\n",
       "      <td>2501.0</td>\n",
       "      <td>5th/Bowie</td>\n",
       "      <td>4061</td>\n",
       "      <td>Lakeshore/Austin Hostel</td>\n",
       "      <td>22</td>\n",
       "      <td>10</td>\n",
       "      <td>2023</td>\n",
       "    </tr>\n",
       "    <tr>\n",
       "      <th>2085959</th>\n",
       "      <td>31735373</td>\n",
       "      <td>Pay-as-you-ride</td>\n",
       "      <td>21535</td>\n",
       "      <td>electric</td>\n",
       "      <td>10/31/2023 03:24:31 PM</td>\n",
       "      <td>2023-10-31</td>\n",
       "      <td>2023-12-08 15:24:31</td>\n",
       "      <td>2504.0</td>\n",
       "      <td>South Congress/Elizabeth</td>\n",
       "      <td>2567</td>\n",
       "      <td>Barton Springs/Bouldin @ Palmer Auditorium</td>\n",
       "      <td>69</td>\n",
       "      <td>10</td>\n",
       "      <td>2023</td>\n",
       "    </tr>\n",
       "    <tr>\n",
       "      <th>2085960</th>\n",
       "      <td>31601940</td>\n",
       "      <td>Local31</td>\n",
       "      <td>19376</td>\n",
       "      <td>electric</td>\n",
       "      <td>10/20/2023 09:05:58 PM</td>\n",
       "      <td>2023-10-20</td>\n",
       "      <td>2023-12-08 21:05:58</td>\n",
       "      <td>3619.0</td>\n",
       "      <td>6th/Congress</td>\n",
       "      <td>4060</td>\n",
       "      <td>Red River/Cesar Chavez @ The Fairmont</td>\n",
       "      <td>12</td>\n",
       "      <td>10</td>\n",
       "      <td>2023</td>\n",
       "    </tr>\n",
       "    <tr>\n",
       "      <th>2085961</th>\n",
       "      <td>31464528</td>\n",
       "      <td>Local31</td>\n",
       "      <td>21868</td>\n",
       "      <td>electric</td>\n",
       "      <td>10/11/2023 04:45:16 PM</td>\n",
       "      <td>2023-10-11</td>\n",
       "      <td>2023-12-08 16:45:16</td>\n",
       "      <td>2494.0</td>\n",
       "      <td>2nd/Congress</td>\n",
       "      <td>2571</td>\n",
       "      <td>8th/Red River</td>\n",
       "      <td>6</td>\n",
       "      <td>10</td>\n",
       "      <td>2023</td>\n",
       "    </tr>\n",
       "    <tr>\n",
       "      <th>2085962</th>\n",
       "      <td>31673378</td>\n",
       "      <td>Local31</td>\n",
       "      <td>21751</td>\n",
       "      <td>electric</td>\n",
       "      <td>10/25/2023 07:47:50 PM</td>\n",
       "      <td>2023-10-25</td>\n",
       "      <td>2023-12-08 19:47:50</td>\n",
       "      <td>7125.0</td>\n",
       "      <td>23rd/Pearl</td>\n",
       "      <td>2562</td>\n",
       "      <td>8th/San Jacinto</td>\n",
       "      <td>64</td>\n",
       "      <td>10</td>\n",
       "      <td>2023</td>\n",
       "    </tr>\n",
       "  </tbody>\n",
       "</table>\n",
       "<p>736370 rows × 14 columns</p>\n",
       "</div>"
      ],
      "text/plain": [
       "           TripID MembershiporPassType  ...  Month  Year\n",
       "59       30124963   Student Membership  ...      7  2023\n",
       "614      25800691   Student Membership  ...     12  2021\n",
       "1018     30125060             Explorer  ...      7  2023\n",
       "1099     30125063             Explorer  ...      7  2023\n",
       "1389     25800774   Student Membership  ...     12  2021\n",
       "...           ...                  ...  ...    ...   ...\n",
       "2085958  31381259              Local31  ...     10  2023\n",
       "2085959  31735373      Pay-as-you-ride  ...     10  2023\n",
       "2085960  31601940              Local31  ...     10  2023\n",
       "2085961  31464528              Local31  ...     10  2023\n",
       "2085962  31673378              Local31  ...     10  2023\n",
       "\n",
       "[736370 rows x 14 columns]"
      ]
     },
     "execution_count": 133,
     "metadata": {},
     "output_type": "execute_result"
    }
   ],
   "source": [
    "filtered_trips_df = trips_df[trips_df['Year'].isin([2021, 2022, 2023])]\n",
    "filtered_trips_df.dropna(subset=['CheckoutDatetime'], inplace=True)\n",
    "filtered_trips_df.dropna(subset=['CheckoutDate'], inplace=True)\n",
    "filtered_trips_df.dropna(subset=['CheckoutTime'], inplace=True)\n",
    "filtered_trips_df.dropna(subset=['CheckoutKioskID'], inplace=True)\n",
    "filtered_trips_df.dropna(subset=['ReturnKioskID'], inplace=True)\n",
    "filtered_trips_df.dropna(subset=['TripDurationMinutes'], inplace=True)\n",
    "filtered_trips_df.dropna(subset=['TripID'], inplace=True)\n",
    "filtered_trips_df.dropna(subset=['MembershiporPassType'], inplace=True)\n",
    "filtered_trips_df.dropna(subset=['BicycleID'], inplace=True)\n",
    "filtered_trips_df\n"
   ]
  },
  {
   "cell_type": "code",
   "execution_count": 0,
   "metadata": {
    "application/vnd.databricks.v1+cell": {
     "cellMetadata": {
      "byteLimit": 2048000,
      "rowLimit": 10000
     },
     "inputWidgets": {},
     "nuid": "bd6ca07d-5307-4e62-8865-1faaef71ed7e",
     "showTitle": false,
     "title": ""
    }
   },
   "outputs": [
    {
     "output_type": "stream",
     "name": "stderr",
     "output_type": "stream",
     "text": [
      "/root/.ipykernel/589531/command-3471958176486964-3805949074:1: SettingWithCopyWarning: \nA value is trying to be set on a copy of a slice from a DataFrame\n\nSee the caveats in the documentation: https://pandas.pydata.org/pandas-docs/stable/user_guide/indexing.html#returning-a-view-versus-a-copy\n  filtered_trips_df.rename(columns={'BicycleID': 'BikeKey', 'MembershiporPassType': 'PassType'}, inplace=True)\n"
     ]
    }
   ],
   "source": [
    "filtered_trips_df.rename(columns={'BicycleID': 'BikeKey', 'MembershiporPassType': 'PassType'}, inplace=True)"
   ]
  },
  {
   "cell_type": "code",
   "execution_count": 0,
   "metadata": {
    "application/vnd.databricks.v1+cell": {
     "cellMetadata": {
      "byteLimit": 2048000,
      "rowLimit": 10000
     },
     "inputWidgets": {},
     "nuid": "855430c2-5188-4587-8827-353e6b456197",
     "showTitle": false,
     "title": ""
    }
   },
   "outputs": [],
   "source": []
  },
  {
   "cell_type": "code",
   "execution_count": 0,
   "metadata": {
    "application/vnd.databricks.v1+cell": {
     "cellMetadata": {
      "byteLimit": 2048000,
      "rowLimit": 10000
     },
     "inputWidgets": {},
     "nuid": "af8a79e5-6ada-4eaa-9d45-ac9fa022e476",
     "showTitle": false,
     "title": ""
    }
   },
   "outputs": [
    {
     "output_type": "stream",
     "name": "stderr",
     "output_type": "stream",
     "text": [
      "/root/.ipykernel/589531/command-3471958176486965-2929036326:2: SettingWithCopyWarning: \nA value is trying to be set on a copy of a slice from a DataFrame.\nTry using .loc[row_indexer,col_indexer] = value instead\n\nSee the caveats in the documentation: https://pandas.pydata.org/pandas-docs/stable/user_guide/indexing.html#returning-a-view-versus-a-copy\n  filtered_trips_df[\"TimeKey\"] = filtered_trips_df['CheckoutTime'].dt.strftime(\"%H%M%S\")\n/root/.ipykernel/589531/command-3471958176486965-2929036326:3: SettingWithCopyWarning: \nA value is trying to be set on a copy of a slice from a DataFrame.\nTry using .loc[row_indexer,col_indexer] = value instead\n\nSee the caveats in the documentation: https://pandas.pydata.org/pandas-docs/stable/user_guide/indexing.html#returning-a-view-versus-a-copy\n  filtered_trips_df['CheckoutDate'] = pd.to_datetime(filtered_trips_df['CheckoutDate'])\n/root/.ipykernel/589531/command-3471958176486965-2929036326:4: SettingWithCopyWarning: \nA value is trying to be set on a copy of a slice from a DataFrame.\nTry using .loc[row_indexer,col_indexer] = value instead\n\nSee the caveats in the documentation: https://pandas.pydata.org/pandas-docs/stable/user_guide/indexing.html#returning-a-view-versus-a-copy\n  filtered_trips_df[\"DateKey\"] = filtered_trips_df['CheckoutDate'].dt.strftime(\"%Y%m%d\").astype(int)\n"
     ]
    }
   ],
   "source": [
    "#convert datetime64[ns] to a time string\n",
    "filtered_trips_df[\"TimeKey\"] = filtered_trips_df['CheckoutTime'].dt.strftime(\"%H%M%S\")\n",
    "filtered_trips_df['CheckoutDate'] = pd.to_datetime(filtered_trips_df['CheckoutDate'])\n",
    "filtered_trips_df[\"DateKey\"] = filtered_trips_df['CheckoutDate'].dt.strftime(\"%Y%m%d\").astype(int)"
   ]
  },
  {
   "cell_type": "code",
   "execution_count": 0,
   "metadata": {
    "application/vnd.databricks.v1+cell": {
     "cellMetadata": {
      "byteLimit": 2048000,
      "rowLimit": 10000
     },
     "inputWidgets": {},
     "nuid": "e866cd72-cfba-4712-897a-db9a9be51e8f",
     "showTitle": false,
     "title": ""
    }
   },
   "outputs": [
    {
     "output_type": "stream",
     "name": "stderr",
     "output_type": "stream",
     "text": [
      "/root/.ipykernel/589531/command-3471958176486972-4107142944:1: SettingWithCopyWarning: \nA value is trying to be set on a copy of a slice from a DataFrame.\nTry using .loc[row_indexer,col_indexer] = value instead\n\nSee the caveats in the documentation: https://pandas.pydata.org/pandas-docs/stable/user_guide/indexing.html#returning-a-view-versus-a-copy\n  filtered_trips_df['CheckoutKioskID'] = filtered_trips_df['CheckoutKioskID'].astype(float).astype(int)\n/root/.ipykernel/589531/command-3471958176486972-4107142944:2: SettingWithCopyWarning: \nA value is trying to be set on a copy of a slice from a DataFrame.\nTry using .loc[row_indexer,col_indexer] = value instead\n\nSee the caveats in the documentation: https://pandas.pydata.org/pandas-docs/stable/user_guide/indexing.html#returning-a-view-versus-a-copy\n  filtered_trips_df['ReturnKioskID'] = filtered_trips_df['ReturnKioskID'].astype(float).astype(int)\n"
     ]
    }
   ],
   "source": [
    "filtered_trips_df['CheckoutKioskID'] = filtered_trips_df['CheckoutKioskID'].astype(float).astype(int)\n",
    "filtered_trips_df['ReturnKioskID'] = filtered_trips_df['ReturnKioskID'].astype(float).astype(int)"
   ]
  },
  {
   "cell_type": "code",
   "execution_count": 0,
   "metadata": {
    "application/vnd.databricks.v1+cell": {
     "cellMetadata": {
      "byteLimit": 2048000,
      "rowLimit": 10000
     },
     "inputWidgets": {},
     "nuid": "5d212c61-0c4e-4e87-96c0-d3118597a18a",
     "showTitle": false,
     "title": ""
    }
   },
   "outputs": [
    {
     "output_type": "execute_result",
     "data": {
      "text/html": [
       "<div>\n",
       "<style scoped>\n",
       "    .dataframe tbody tr th:only-of-type {\n",
       "        vertical-align: middle;\n",
       "    }\n",
       "\n",
       "    .dataframe tbody tr th {\n",
       "        vertical-align: top;\n",
       "    }\n",
       "\n",
       "    .dataframe thead th {\n",
       "        text-align: right;\n",
       "    }\n",
       "</style>\n",
       "<table border=\"1\" class=\"dataframe\">\n",
       "  <thead>\n",
       "    <tr style=\"text-align: right;\">\n",
       "      <th></th>\n",
       "      <th>TripID</th>\n",
       "      <th>PassType</th>\n",
       "      <th>BikeKey</th>\n",
       "      <th>BikeType</th>\n",
       "      <th>CheckoutDatetime</th>\n",
       "      <th>CheckoutDate</th>\n",
       "      <th>CheckoutTime</th>\n",
       "      <th>CheckoutKioskID</th>\n",
       "      <th>CheckoutKiosk</th>\n",
       "      <th>ReturnKioskID</th>\n",
       "      <th>ReturnKiosk</th>\n",
       "      <th>TripDurationMinutes</th>\n",
       "      <th>Month</th>\n",
       "      <th>Year</th>\n",
       "      <th>TimeKey</th>\n",
       "      <th>DateKey</th>\n",
       "    </tr>\n",
       "  </thead>\n",
       "  <tbody>\n",
       "    <tr>\n",
       "      <th>59</th>\n",
       "      <td>30124963</td>\n",
       "      <td>Student Membership</td>\n",
       "      <td>17751</td>\n",
       "      <td>electric</td>\n",
       "      <td>07/05/2023 03:11:38 PM</td>\n",
       "      <td>2023-07-05</td>\n",
       "      <td>2023-12-08 15:11:38</td>\n",
       "      <td>3798</td>\n",
       "      <td>21st/Speedway @ PCL</td>\n",
       "      <td>3798</td>\n",
       "      <td>23rd/Pearl</td>\n",
       "      <td>6</td>\n",
       "      <td>7</td>\n",
       "      <td>2023</td>\n",
       "      <td>151138</td>\n",
       "      <td>20230705</td>\n",
       "    </tr>\n",
       "    <tr>\n",
       "      <th>614</th>\n",
       "      <td>25800691</td>\n",
       "      <td>Student Membership</td>\n",
       "      <td>21829</td>\n",
       "      <td>electric</td>\n",
       "      <td>12/12/2021 04:43:52 PM</td>\n",
       "      <td>2021-12-12</td>\n",
       "      <td>2023-12-08 16:43:52</td>\n",
       "      <td>2572</td>\n",
       "      <td>Barton Springs Pool</td>\n",
       "      <td>3684</td>\n",
       "      <td>Cesar Chavez/Congress</td>\n",
       "      <td>40</td>\n",
       "      <td>12</td>\n",
       "      <td>2021</td>\n",
       "      <td>164352</td>\n",
       "      <td>20211212</td>\n",
       "    </tr>\n",
       "    <tr>\n",
       "      <th>1018</th>\n",
       "      <td>30125060</td>\n",
       "      <td>Explorer</td>\n",
       "      <td>18939</td>\n",
       "      <td>electric</td>\n",
       "      <td>07/05/2023 03:24:30 PM</td>\n",
       "      <td>2023-07-05</td>\n",
       "      <td>2023-12-08 15:24:30</td>\n",
       "      <td>3619</td>\n",
       "      <td>6th/Congress</td>\n",
       "      <td>3619</td>\n",
       "      <td>21st/Speedway @ PCL</td>\n",
       "      <td>181</td>\n",
       "      <td>7</td>\n",
       "      <td>2023</td>\n",
       "      <td>152430</td>\n",
       "      <td>20230705</td>\n",
       "    </tr>\n",
       "    <tr>\n",
       "      <th>1099</th>\n",
       "      <td>30125063</td>\n",
       "      <td>Explorer</td>\n",
       "      <td>21849</td>\n",
       "      <td>electric</td>\n",
       "      <td>07/05/2023 03:24:46 PM</td>\n",
       "      <td>2023-07-05</td>\n",
       "      <td>2023-12-08 15:24:46</td>\n",
       "      <td>3619</td>\n",
       "      <td>6th/Congress</td>\n",
       "      <td>3619</td>\n",
       "      <td>6th/Trinity</td>\n",
       "      <td>255</td>\n",
       "      <td>7</td>\n",
       "      <td>2023</td>\n",
       "      <td>152446</td>\n",
       "      <td>20230705</td>\n",
       "    </tr>\n",
       "    <tr>\n",
       "      <th>1389</th>\n",
       "      <td>25800774</td>\n",
       "      <td>Student Membership</td>\n",
       "      <td>21803</td>\n",
       "      <td>electric</td>\n",
       "      <td>12/12/2021 04:56:24 PM</td>\n",
       "      <td>2021-12-12</td>\n",
       "      <td>2023-12-08 16:56:24</td>\n",
       "      <td>2548</td>\n",
       "      <td>Guadalupe/West Mall @ University Co-op</td>\n",
       "      <td>3795</td>\n",
       "      <td>Dean Keeton/Whitis</td>\n",
       "      <td>10</td>\n",
       "      <td>12</td>\n",
       "      <td>2021</td>\n",
       "      <td>165624</td>\n",
       "      <td>20211212</td>\n",
       "    </tr>\n",
       "    <tr>\n",
       "      <th>5205</th>\n",
       "      <td>25800811</td>\n",
       "      <td>Student Membership</td>\n",
       "      <td>16333</td>\n",
       "      <td>electric</td>\n",
       "      <td>12/12/2021 05:00:20 PM</td>\n",
       "      <td>2021-12-12</td>\n",
       "      <td>2023-12-08 17:00:20</td>\n",
       "      <td>3686</td>\n",
       "      <td>Sterzing/Barton Springs</td>\n",
       "      <td>3294</td>\n",
       "      <td>6th/Lavaca</td>\n",
       "      <td>15</td>\n",
       "      <td>12</td>\n",
       "      <td>2021</td>\n",
       "      <td>170020</td>\n",
       "      <td>20211212</td>\n",
       "    </tr>\n",
       "    <tr>\n",
       "      <th>7043</th>\n",
       "      <td>30125186</td>\n",
       "      <td>Student Membership</td>\n",
       "      <td>21558</td>\n",
       "      <td>electric</td>\n",
       "      <td>07/05/2023 03:38:39 PM</td>\n",
       "      <td>2023-07-05</td>\n",
       "      <td>2023-12-08 15:38:39</td>\n",
       "      <td>7188</td>\n",
       "      <td>22nd/Pearl</td>\n",
       "      <td>7188</td>\n",
       "      <td>5th/Bowie</td>\n",
       "      <td>7</td>\n",
       "      <td>7</td>\n",
       "      <td>2023</td>\n",
       "      <td>153839</td>\n",
       "      <td>20230705</td>\n",
       "    </tr>\n",
       "    <tr>\n",
       "      <th>9655</th>\n",
       "      <td>25800817</td>\n",
       "      <td>3-Day Weekender</td>\n",
       "      <td>21523</td>\n",
       "      <td>electric</td>\n",
       "      <td>12/12/2021 05:01:23 PM</td>\n",
       "      <td>2021-12-12</td>\n",
       "      <td>2023-12-08 17:01:23</td>\n",
       "      <td>3621</td>\n",
       "      <td>3rd/Nueces</td>\n",
       "      <td>2496</td>\n",
       "      <td>8th/Congress</td>\n",
       "      <td>78</td>\n",
       "      <td>12</td>\n",
       "      <td>2021</td>\n",
       "      <td>170123</td>\n",
       "      <td>20211212</td>\n",
       "    </tr>\n",
       "    <tr>\n",
       "      <th>9939</th>\n",
       "      <td>25801020</td>\n",
       "      <td>Local365</td>\n",
       "      <td>21419</td>\n",
       "      <td>electric</td>\n",
       "      <td>12/12/2021 05:32:42 PM</td>\n",
       "      <td>2021-12-12</td>\n",
       "      <td>2023-12-08 17:32:42</td>\n",
       "      <td>2563</td>\n",
       "      <td>Rainey/Davis</td>\n",
       "      <td>2547</td>\n",
       "      <td>21st/Guadalupe</td>\n",
       "      <td>11</td>\n",
       "      <td>12</td>\n",
       "      <td>2021</td>\n",
       "      <td>173242</td>\n",
       "      <td>20211212</td>\n",
       "    </tr>\n",
       "    <tr>\n",
       "      <th>9981</th>\n",
       "      <td>25801023</td>\n",
       "      <td>Local31</td>\n",
       "      <td>23277</td>\n",
       "      <td>electric</td>\n",
       "      <td>12/12/2021 05:34:02 PM</td>\n",
       "      <td>2021-12-12</td>\n",
       "      <td>2023-12-08 17:34:02</td>\n",
       "      <td>4061</td>\n",
       "      <td>Lakeshore/Austin Hostel</td>\n",
       "      <td>2575</td>\n",
       "      <td>Riverside/South Lamar</td>\n",
       "      <td>51</td>\n",
       "      <td>12</td>\n",
       "      <td>2021</td>\n",
       "      <td>173402</td>\n",
       "      <td>20211212</td>\n",
       "    </tr>\n",
       "  </tbody>\n",
       "</table>\n",
       "</div>"
      ],
      "text/plain": [
       "        TripID            PassType  BikeKey  ...  Year TimeKey   DateKey\n",
       "59    30124963  Student Membership    17751  ...  2023  151138  20230705\n",
       "614   25800691  Student Membership    21829  ...  2021  164352  20211212\n",
       "1018  30125060            Explorer    18939  ...  2023  152430  20230705\n",
       "1099  30125063            Explorer    21849  ...  2023  152446  20230705\n",
       "1389  25800774  Student Membership    21803  ...  2021  165624  20211212\n",
       "5205  25800811  Student Membership    16333  ...  2021  170020  20211212\n",
       "7043  30125186  Student Membership    21558  ...  2023  153839  20230705\n",
       "9655  25800817     3-Day Weekender    21523  ...  2021  170123  20211212\n",
       "9939  25801020            Local365    21419  ...  2021  173242  20211212\n",
       "9981  25801023             Local31    23277  ...  2021  173402  20211212\n",
       "\n",
       "[10 rows x 16 columns]"
      ]
     },
     "execution_count": 137,
     "metadata": {},
     "output_type": "execute_result"
    }
   ],
   "source": [
    "filtered_trips_df.head(10)"
   ]
  },
  {
   "cell_type": "code",
   "execution_count": 0,
   "metadata": {
    "application/vnd.databricks.v1+cell": {
     "cellMetadata": {
      "byteLimit": 2048000,
      "rowLimit": 10000
     },
     "inputWidgets": {},
     "nuid": "27fc722d-e8ad-4114-ad31-0fb27217e4d8",
     "showTitle": false,
     "title": ""
    }
   },
   "outputs": [
    {
     "output_type": "execute_result",
     "data": {
      "text/plain": [
       "KioskID              int64\n",
       "KioskName           object\n",
       "KioskStatus         object\n",
       "Location            object\n",
       "Address             object\n",
       "AlternateName       object\n",
       "CityAssetNumber    float64\n",
       "PropertyType        object\n",
       "NumberofDocks      float64\n",
       "PowerType           object\n",
       "FootprintLength    float64\n",
       "FootprintWidth     float64\n",
       "Notes               object\n",
       "CouncilDistrict      int64\n",
       "Image               object\n",
       "ModifiedDate        object\n",
       "dtype: object"
      ]
     },
     "execution_count": 184,
     "metadata": {},
     "output_type": "execute_result"
    }
   ],
   "source": [
    "kiosks_df = kiosks_raw.toPandas()\n",
    "kiosks_df.dtypes"
   ]
  },
  {
   "cell_type": "code",
   "execution_count": 0,
   "metadata": {
    "application/vnd.databricks.v1+cell": {
     "cellMetadata": {
      "byteLimit": 2048000,
      "rowLimit": 10000
     },
     "inputWidgets": {},
     "nuid": "82508139-400a-4959-801a-918b93d107d1",
     "showTitle": false,
     "title": ""
    }
   },
   "outputs": [
    {
     "output_type": "execute_result",
     "data": {
      "text/html": [
       "<div>\n",
       "<style scoped>\n",
       "    .dataframe tbody tr th:only-of-type {\n",
       "        vertical-align: middle;\n",
       "    }\n",
       "\n",
       "    .dataframe tbody tr th {\n",
       "        vertical-align: top;\n",
       "    }\n",
       "\n",
       "    .dataframe thead th {\n",
       "        text-align: right;\n",
       "    }\n",
       "</style>\n",
       "<table border=\"1\" class=\"dataframe\">\n",
       "  <thead>\n",
       "    <tr style=\"text-align: right;\">\n",
       "      <th></th>\n",
       "      <th>KioskID</th>\n",
       "      <th>KioskName</th>\n",
       "      <th>KioskStatus</th>\n",
       "      <th>Location</th>\n",
       "      <th>Address</th>\n",
       "      <th>AlternateName</th>\n",
       "      <th>CityAssetNumber</th>\n",
       "      <th>PropertyType</th>\n",
       "      <th>NumberofDocks</th>\n",
       "      <th>PowerType</th>\n",
       "      <th>FootprintLength</th>\n",
       "      <th>FootprintWidth</th>\n",
       "      <th>Notes</th>\n",
       "      <th>CouncilDistrict</th>\n",
       "      <th>Image</th>\n",
       "      <th>ModifiedDate</th>\n",
       "      <th>PointString</th>\n",
       "      <th>Latitude</th>\n",
       "      <th>Longitude</th>\n",
       "      <th>LocationKey</th>\n",
       "    </tr>\n",
       "  </thead>\n",
       "  <tbody>\n",
       "    <tr>\n",
       "      <th>0</th>\n",
       "      <td>11</td>\n",
       "      <td>22nd 1/2 &amp; Rio Grande</td>\n",
       "      <td>active</td>\n",
       "      <td>(30.2862, -97.74516)</td>\n",
       "      <td>710 W. 22 1/2 St</td>\n",
       "      <td>None</td>\n",
       "      <td>NaN</td>\n",
       "      <td>sidewalk</td>\n",
       "      <td>4.0</td>\n",
       "      <td>solar</td>\n",
       "      <td>NaN</td>\n",
       "      <td>NaN</td>\n",
       "      <td>Kiosk ID &amp; footprint length and width to be re...</td>\n",
       "      <td>9</td>\n",
       "      <td>None</td>\n",
       "      <td>11/04/2021 02:24:00 PM</td>\n",
       "      <td>NaN</td>\n",
       "      <td>NaN</td>\n",
       "      <td>NaN</td>\n",
       "      <td>NaN</td>\n",
       "    </tr>\n",
       "    <tr>\n",
       "      <th>1</th>\n",
       "      <td>111</td>\n",
       "      <td>23rd &amp; San Gabriel</td>\n",
       "      <td>active</td>\n",
       "      <td>(30.2874, -97.7478)</td>\n",
       "      <td>915 W 23rd St</td>\n",
       "      <td>None</td>\n",
       "      <td>NaN</td>\n",
       "      <td>paid_parking</td>\n",
       "      <td>13.0</td>\n",
       "      <td>solar</td>\n",
       "      <td>NaN</td>\n",
       "      <td>NaN</td>\n",
       "      <td>Kiosk ID and Footprint length &amp; width to be re...</td>\n",
       "      <td>9</td>\n",
       "      <td>None</td>\n",
       "      <td>11/04/2021 02:15:00 PM</td>\n",
       "      <td>NaN</td>\n",
       "      <td>NaN</td>\n",
       "      <td>NaN</td>\n",
       "      <td>NaN</td>\n",
       "    </tr>\n",
       "    <tr>\n",
       "      <th>2</th>\n",
       "      <td>1001</td>\n",
       "      <td>OFFICE/Main/Shop/Repair</td>\n",
       "      <td>closed</td>\n",
       "      <td>(30.27186, -97.73997)</td>\n",
       "      <td>1000 Brazos</td>\n",
       "      <td>None</td>\n",
       "      <td>NaN</td>\n",
       "      <td></td>\n",
       "      <td>NaN</td>\n",
       "      <td></td>\n",
       "      <td>NaN</td>\n",
       "      <td>NaN</td>\n",
       "      <td>This is the testing dock/station located at BS...</td>\n",
       "      <td>1</td>\n",
       "      <td>None</td>\n",
       "      <td>03/04/2022 09:58:00 AM</td>\n",
       "      <td>NaN</td>\n",
       "      <td>NaN</td>\n",
       "      <td>NaN</td>\n",
       "      <td>NaN</td>\n",
       "    </tr>\n",
       "    <tr>\n",
       "      <th>3</th>\n",
       "      <td>1002</td>\n",
       "      <td>6th &amp; Navasota St.</td>\n",
       "      <td>closed</td>\n",
       "      <td>(30.26383, -97.72864)</td>\n",
       "      <td>1308 W. 6th St.</td>\n",
       "      <td>None</td>\n",
       "      <td>NaN</td>\n",
       "      <td>None</td>\n",
       "      <td>NaN</td>\n",
       "      <td>None</td>\n",
       "      <td>NaN</td>\n",
       "      <td>NaN</td>\n",
       "      <td>None</td>\n",
       "      <td>3</td>\n",
       "      <td>None</td>\n",
       "      <td>01/04/2021 12:00:00 AM</td>\n",
       "      <td>NaN</td>\n",
       "      <td>NaN</td>\n",
       "      <td>NaN</td>\n",
       "      <td>NaN</td>\n",
       "    </tr>\n",
       "    <tr>\n",
       "      <th>4</th>\n",
       "      <td>1003</td>\n",
       "      <td>8th &amp; Guadalupe</td>\n",
       "      <td>closed</td>\n",
       "      <td>(30.27106, -97.74563)</td>\n",
       "      <td>800 Guadalupe St.</td>\n",
       "      <td>None</td>\n",
       "      <td>NaN</td>\n",
       "      <td>None</td>\n",
       "      <td>NaN</td>\n",
       "      <td>None</td>\n",
       "      <td>NaN</td>\n",
       "      <td>NaN</td>\n",
       "      <td>None</td>\n",
       "      <td>9</td>\n",
       "      <td>None</td>\n",
       "      <td>01/04/2021 12:00:00 AM</td>\n",
       "      <td>NaN</td>\n",
       "      <td>NaN</td>\n",
       "      <td>NaN</td>\n",
       "      <td>NaN</td>\n",
       "    </tr>\n",
       "    <tr>\n",
       "      <th>...</th>\n",
       "      <td>...</td>\n",
       "      <td>...</td>\n",
       "      <td>...</td>\n",
       "      <td>...</td>\n",
       "      <td>...</td>\n",
       "      <td>...</td>\n",
       "      <td>...</td>\n",
       "      <td>...</td>\n",
       "      <td>...</td>\n",
       "      <td>...</td>\n",
       "      <td>...</td>\n",
       "      <td>...</td>\n",
       "      <td>...</td>\n",
       "      <td>...</td>\n",
       "      <td>...</td>\n",
       "      <td>...</td>\n",
       "      <td>...</td>\n",
       "      <td>...</td>\n",
       "      <td>...</td>\n",
       "      <td>...</td>\n",
       "    </tr>\n",
       "    <tr>\n",
       "      <th>97</th>\n",
       "      <td>4061</td>\n",
       "      <td>Lakeshore @ Austin Hostel</td>\n",
       "      <td>active</td>\n",
       "      <td>(30.24472, -97.72336)</td>\n",
       "      <td>2200 S Lakeshore Blvd</td>\n",
       "      <td>None</td>\n",
       "      <td>32692.0</td>\n",
       "      <td>nonmetered_parking</td>\n",
       "      <td>15.0</td>\n",
       "      <td>solar</td>\n",
       "      <td>45.0</td>\n",
       "      <td>5.0</td>\n",
       "      <td>None</td>\n",
       "      <td>3</td>\n",
       "      <td>None</td>\n",
       "      <td>01/04/2021 12:00:00 AM</td>\n",
       "      <td>NaN</td>\n",
       "      <td>NaN</td>\n",
       "      <td>NaN</td>\n",
       "      <td>NaN</td>\n",
       "    </tr>\n",
       "    <tr>\n",
       "      <th>98</th>\n",
       "      <td>4062</td>\n",
       "      <td>Lakeshore &amp; Pleasant Valley</td>\n",
       "      <td>active</td>\n",
       "      <td>(30.24258, -97.71726)</td>\n",
       "      <td>2525 South Lakeshore Boulevard</td>\n",
       "      <td>None</td>\n",
       "      <td>32711.0</td>\n",
       "      <td>nonmetered_parking</td>\n",
       "      <td>18.0</td>\n",
       "      <td>solar</td>\n",
       "      <td>55.0</td>\n",
       "      <td>5.0</td>\n",
       "      <td>None</td>\n",
       "      <td>3</td>\n",
       "      <td>None</td>\n",
       "      <td>01/04/2021 12:00:00 AM</td>\n",
       "      <td>NaN</td>\n",
       "      <td>NaN</td>\n",
       "      <td>NaN</td>\n",
       "      <td>NaN</td>\n",
       "    </tr>\n",
       "    <tr>\n",
       "      <th>99</th>\n",
       "      <td>4699</td>\n",
       "      <td>East 5th/Shady @ Eastside Bus Plaza</td>\n",
       "      <td>active</td>\n",
       "      <td>(30.25212, -97.69807)</td>\n",
       "      <td>5104 East 5th. Street</td>\n",
       "      <td>None</td>\n",
       "      <td>32522.0</td>\n",
       "      <td>sidewalk</td>\n",
       "      <td>10.0</td>\n",
       "      <td>solar</td>\n",
       "      <td>15.0</td>\n",
       "      <td>10.0</td>\n",
       "      <td>None</td>\n",
       "      <td>3</td>\n",
       "      <td>None</td>\n",
       "      <td>07/27/2021 08:25:00 AM</td>\n",
       "      <td>NaN</td>\n",
       "      <td>NaN</td>\n",
       "      <td>NaN</td>\n",
       "      <td>NaN</td>\n",
       "    </tr>\n",
       "    <tr>\n",
       "      <th>100</th>\n",
       "      <td>4879</td>\n",
       "      <td>16th/San Antonio</td>\n",
       "      <td>active</td>\n",
       "      <td>(30.27924, -97.74371)</td>\n",
       "      <td>1601 San Antonio Street</td>\n",
       "      <td>None</td>\n",
       "      <td>16739.0</td>\n",
       "      <td>paid_parking</td>\n",
       "      <td>12.0</td>\n",
       "      <td>solar</td>\n",
       "      <td>40.0</td>\n",
       "      <td>5.0</td>\n",
       "      <td>None</td>\n",
       "      <td>9</td>\n",
       "      <td>None</td>\n",
       "      <td>03/12/2021 01:15:00 PM</td>\n",
       "      <td>NaN</td>\n",
       "      <td>NaN</td>\n",
       "      <td>NaN</td>\n",
       "      <td>NaN</td>\n",
       "    </tr>\n",
       "    <tr>\n",
       "      <th>101</th>\n",
       "      <td>0</td>\n",
       "      <td>South Congress/Mary</td>\n",
       "      <td>active</td>\n",
       "      <td>(30.244961, -97.751272)</td>\n",
       "      <td>1901 South Congress Ave.</td>\n",
       "      <td>None</td>\n",
       "      <td>0.0</td>\n",
       "      <td>undetermined_parking</td>\n",
       "      <td>11.0</td>\n",
       "      <td>solar</td>\n",
       "      <td>40.0</td>\n",
       "      <td>10.0</td>\n",
       "      <td>In the gutter</td>\n",
       "      <td>9</td>\n",
       "      <td>None</td>\n",
       "      <td>03/04/2022 09:01:00 AM</td>\n",
       "      <td>NaN</td>\n",
       "      <td>NaN</td>\n",
       "      <td>NaN</td>\n",
       "      <td>NaN</td>\n",
       "    </tr>\n",
       "  </tbody>\n",
       "</table>\n",
       "<p>102 rows × 20 columns</p>\n",
       "</div>"
      ],
      "text/plain": [
       "     KioskID                            KioskName  ... Longitude LocationKey\n",
       "0         11                22nd 1/2 & Rio Grande  ...       NaN         NaN\n",
       "1        111                   23rd & San Gabriel  ...       NaN         NaN\n",
       "2       1001              OFFICE/Main/Shop/Repair  ...       NaN         NaN\n",
       "3       1002                   6th & Navasota St.  ...       NaN         NaN\n",
       "4       1003                      8th & Guadalupe  ...       NaN         NaN\n",
       "..       ...                                  ...  ...       ...         ...\n",
       "97      4061            Lakeshore @ Austin Hostel  ...       NaN         NaN\n",
       "98      4062          Lakeshore & Pleasant Valley  ...       NaN         NaN\n",
       "99      4699  East 5th/Shady @ Eastside Bus Plaza  ...       NaN         NaN\n",
       "100     4879                     16th/San Antonio  ...       NaN         NaN\n",
       "101        0                  South Congress/Mary  ...       NaN         NaN\n",
       "\n",
       "[102 rows x 20 columns]"
      ]
     },
     "execution_count": 139,
     "metadata": {},
     "output_type": "execute_result"
    }
   ],
   "source": [
    "kiosks_df = pd.merge(kiosks_df, locationsdf, left_on='Location', right_on='PointString', how='left')\n",
    "kiosks_df"
   ]
  },
  {
   "cell_type": "code",
   "execution_count": 0,
   "metadata": {
    "application/vnd.databricks.v1+cell": {
     "cellMetadata": {
      "byteLimit": 2048000,
      "rowLimit": 10000
     },
     "inputWidgets": {},
     "nuid": "0b67d90d-4128-4c59-8d41-c4247515ad59",
     "showTitle": false,
     "title": ""
    }
   },
   "outputs": [],
   "source": [
    "trips_kiosks_df = pd.merge(filtered_trips_df, kiosks_df, left_on='CheckoutKioskID', right_on='KioskID', how='left')"
   ]
  },
  {
   "cell_type": "code",
   "execution_count": 0,
   "metadata": {
    "application/vnd.databricks.v1+cell": {
     "cellMetadata": {
      "byteLimit": 2048000,
      "rowLimit": 10000
     },
     "inputWidgets": {},
     "nuid": "b17e37d9-4557-4b29-8124-7cc7d648b872",
     "showTitle": false,
     "title": ""
    }
   },
   "outputs": [],
   "source": [
    "trips_kiosks_df.dropna(subset=['KioskID'], inplace=True)"
   ]
  },
  {
   "cell_type": "code",
   "execution_count": 0,
   "metadata": {
    "application/vnd.databricks.v1+cell": {
     "cellMetadata": {
      "byteLimit": 2048000,
      "rowLimit": 10000
     },
     "inputWidgets": {},
     "nuid": "0db5b177-1540-4963-b6e7-212030f8ec1c",
     "showTitle": false,
     "title": ""
    }
   },
   "outputs": [],
   "source": [
    "trips_kiosks_loc_df = pd.merge(trips_kiosks_df, locationsdf, left_on='Location', right_on='PointString', how='left')"
   ]
  },
  {
   "cell_type": "code",
   "execution_count": 0,
   "metadata": {
    "application/vnd.databricks.v1+cell": {
     "cellMetadata": {
      "byteLimit": 2048000,
      "rowLimit": 10000
     },
     "inputWidgets": {},
     "nuid": "dec78829-fbb5-424b-bb12-9adf67042d9d",
     "showTitle": false,
     "title": ""
    }
   },
   "outputs": [
    {
     "output_type": "execute_result",
     "data": {
      "text/html": [
       "<div>\n",
       "<style scoped>\n",
       "    .dataframe tbody tr th:only-of-type {\n",
       "        vertical-align: middle;\n",
       "    }\n",
       "\n",
       "    .dataframe tbody tr th {\n",
       "        vertical-align: top;\n",
       "    }\n",
       "\n",
       "    .dataframe thead th {\n",
       "        text-align: right;\n",
       "    }\n",
       "</style>\n",
       "<table border=\"1\" class=\"dataframe\">\n",
       "  <thead>\n",
       "    <tr style=\"text-align: right;\">\n",
       "      <th></th>\n",
       "      <th>TripID</th>\n",
       "      <th>PassType</th>\n",
       "      <th>BikeKey</th>\n",
       "      <th>BikeType</th>\n",
       "      <th>CheckoutDatetime</th>\n",
       "      <th>CheckoutDate</th>\n",
       "      <th>CheckoutTime</th>\n",
       "      <th>CheckoutKioskID</th>\n",
       "      <th>CheckoutKiosk</th>\n",
       "      <th>ReturnKioskID</th>\n",
       "      <th>ReturnKiosk</th>\n",
       "      <th>TripDurationMinutes</th>\n",
       "      <th>Month</th>\n",
       "      <th>Year</th>\n",
       "      <th>TimeKey</th>\n",
       "      <th>DateKey</th>\n",
       "      <th>KioskID</th>\n",
       "      <th>KioskName</th>\n",
       "      <th>KioskStatus</th>\n",
       "      <th>Location</th>\n",
       "      <th>Address</th>\n",
       "      <th>AlternateName</th>\n",
       "      <th>CityAssetNumber</th>\n",
       "      <th>PropertyType</th>\n",
       "      <th>NumberofDocks</th>\n",
       "      <th>PowerType</th>\n",
       "      <th>FootprintLength</th>\n",
       "      <th>FootprintWidth</th>\n",
       "      <th>Notes</th>\n",
       "      <th>CouncilDistrict</th>\n",
       "      <th>Image</th>\n",
       "      <th>ModifiedDate</th>\n",
       "      <th>PointString</th>\n",
       "      <th>Latitude</th>\n",
       "      <th>Longitude</th>\n",
       "      <th>LocationKey</th>\n",
       "    </tr>\n",
       "  </thead>\n",
       "  <tbody>\n",
       "    <tr>\n",
       "      <th>0</th>\n",
       "      <td>30124963</td>\n",
       "      <td>Student Membership</td>\n",
       "      <td>17751</td>\n",
       "      <td>electric</td>\n",
       "      <td>07/05/2023 03:11:38 PM</td>\n",
       "      <td>2023-07-05</td>\n",
       "      <td>2023-12-08 15:11:38</td>\n",
       "      <td>3798</td>\n",
       "      <td>21st/Speedway @ PCL</td>\n",
       "      <td>3798</td>\n",
       "      <td>23rd/Pearl</td>\n",
       "      <td>6</td>\n",
       "      <td>7</td>\n",
       "      <td>2023</td>\n",
       "      <td>151138</td>\n",
       "      <td>20230705</td>\n",
       "      <td>3798.0</td>\n",
       "      <td>21st &amp; Speedway @PCL</td>\n",
       "      <td>active</td>\n",
       "      <td>(30.283, -97.7375)</td>\n",
       "      <td>E. 21st St.</td>\n",
       "      <td>None</td>\n",
       "      <td>32675.0</td>\n",
       "      <td>sidewalk</td>\n",
       "      <td>22.0</td>\n",
       "      <td>solar</td>\n",
       "      <td>30.0</td>\n",
       "      <td>7.5</td>\n",
       "      <td>On UT property-2 sided</td>\n",
       "      <td>9.0</td>\n",
       "      <td>None</td>\n",
       "      <td>01/04/2021 12:00:00 AM</td>\n",
       "      <td>(30.283, -97.7375)</td>\n",
       "      <td>30.283000</td>\n",
       "      <td>-97.737500</td>\n",
       "      <td>141</td>\n",
       "    </tr>\n",
       "    <tr>\n",
       "      <th>1</th>\n",
       "      <td>25800691</td>\n",
       "      <td>Student Membership</td>\n",
       "      <td>21829</td>\n",
       "      <td>electric</td>\n",
       "      <td>12/12/2021 04:43:52 PM</td>\n",
       "      <td>2021-12-12</td>\n",
       "      <td>2023-12-08 16:43:52</td>\n",
       "      <td>2572</td>\n",
       "      <td>Barton Springs Pool</td>\n",
       "      <td>3684</td>\n",
       "      <td>Cesar Chavez/Congress</td>\n",
       "      <td>40</td>\n",
       "      <td>12</td>\n",
       "      <td>2021</td>\n",
       "      <td>164352</td>\n",
       "      <td>20211212</td>\n",
       "      <td>2572.0</td>\n",
       "      <td>Barton Springs Pool</td>\n",
       "      <td>active</td>\n",
       "      <td>(30.26452, -97.7712)</td>\n",
       "      <td>2200 William Barton Dr.</td>\n",
       "      <td>None</td>\n",
       "      <td>16758.0</td>\n",
       "      <td>parkland</td>\n",
       "      <td>13.0</td>\n",
       "      <td>solar</td>\n",
       "      <td>40.0</td>\n",
       "      <td>5.0</td>\n",
       "      <td>None</td>\n",
       "      <td>8.0</td>\n",
       "      <td>None</td>\n",
       "      <td>01/04/2021 12:00:00 AM</td>\n",
       "      <td>(30.26452, -97.7712)</td>\n",
       "      <td>30.264520</td>\n",
       "      <td>-97.771200</td>\n",
       "      <td>108</td>\n",
       "    </tr>\n",
       "    <tr>\n",
       "      <th>2</th>\n",
       "      <td>30125060</td>\n",
       "      <td>Explorer</td>\n",
       "      <td>18939</td>\n",
       "      <td>electric</td>\n",
       "      <td>07/05/2023 03:24:30 PM</td>\n",
       "      <td>2023-07-05</td>\n",
       "      <td>2023-12-08 15:24:30</td>\n",
       "      <td>3619</td>\n",
       "      <td>6th/Congress</td>\n",
       "      <td>3619</td>\n",
       "      <td>21st/Speedway @ PCL</td>\n",
       "      <td>181</td>\n",
       "      <td>7</td>\n",
       "      <td>2023</td>\n",
       "      <td>152430</td>\n",
       "      <td>20230705</td>\n",
       "      <td>3619.0</td>\n",
       "      <td>6th &amp; Congress</td>\n",
       "      <td>active</td>\n",
       "      <td>(30.26822, -97.74285)</td>\n",
       "      <td>600 Congress Ave.</td>\n",
       "      <td>Congress &amp; 6th Street</td>\n",
       "      <td>16743.0</td>\n",
       "      <td>sidewalk</td>\n",
       "      <td>11.0</td>\n",
       "      <td>solar</td>\n",
       "      <td>30.0</td>\n",
       "      <td>5.0</td>\n",
       "      <td>remeasure</td>\n",
       "      <td>9.0</td>\n",
       "      <td>None</td>\n",
       "      <td>01/04/2021 12:00:00 AM</td>\n",
       "      <td>(30.26822, -97.74285)</td>\n",
       "      <td>30.268220</td>\n",
       "      <td>-97.742850</td>\n",
       "      <td>126</td>\n",
       "    </tr>\n",
       "    <tr>\n",
       "      <th>3</th>\n",
       "      <td>30125063</td>\n",
       "      <td>Explorer</td>\n",
       "      <td>21849</td>\n",
       "      <td>electric</td>\n",
       "      <td>07/05/2023 03:24:46 PM</td>\n",
       "      <td>2023-07-05</td>\n",
       "      <td>2023-12-08 15:24:46</td>\n",
       "      <td>3619</td>\n",
       "      <td>6th/Congress</td>\n",
       "      <td>3619</td>\n",
       "      <td>6th/Trinity</td>\n",
       "      <td>255</td>\n",
       "      <td>7</td>\n",
       "      <td>2023</td>\n",
       "      <td>152446</td>\n",
       "      <td>20230705</td>\n",
       "      <td>3619.0</td>\n",
       "      <td>6th &amp; Congress</td>\n",
       "      <td>active</td>\n",
       "      <td>(30.26822, -97.74285)</td>\n",
       "      <td>600 Congress Ave.</td>\n",
       "      <td>Congress &amp; 6th Street</td>\n",
       "      <td>16743.0</td>\n",
       "      <td>sidewalk</td>\n",
       "      <td>11.0</td>\n",
       "      <td>solar</td>\n",
       "      <td>30.0</td>\n",
       "      <td>5.0</td>\n",
       "      <td>remeasure</td>\n",
       "      <td>9.0</td>\n",
       "      <td>None</td>\n",
       "      <td>01/04/2021 12:00:00 AM</td>\n",
       "      <td>(30.26822, -97.74285)</td>\n",
       "      <td>30.268220</td>\n",
       "      <td>-97.742850</td>\n",
       "      <td>126</td>\n",
       "    </tr>\n",
       "    <tr>\n",
       "      <th>4</th>\n",
       "      <td>25800774</td>\n",
       "      <td>Student Membership</td>\n",
       "      <td>21803</td>\n",
       "      <td>electric</td>\n",
       "      <td>12/12/2021 04:56:24 PM</td>\n",
       "      <td>2021-12-12</td>\n",
       "      <td>2023-12-08 16:56:24</td>\n",
       "      <td>2548</td>\n",
       "      <td>Guadalupe/West Mall @ University Co-op</td>\n",
       "      <td>3795</td>\n",
       "      <td>Dean Keeton/Whitis</td>\n",
       "      <td>10</td>\n",
       "      <td>12</td>\n",
       "      <td>2021</td>\n",
       "      <td>165624</td>\n",
       "      <td>20211212</td>\n",
       "      <td>2548.0</td>\n",
       "      <td>UT West Mall @ Guadalupe</td>\n",
       "      <td>active</td>\n",
       "      <td>(30.28576, -97.74181)</td>\n",
       "      <td>2242 Guadalupe St.</td>\n",
       "      <td>None</td>\n",
       "      <td>16748.0</td>\n",
       "      <td>paid_parking</td>\n",
       "      <td>15.0</td>\n",
       "      <td>solar</td>\n",
       "      <td>45.0</td>\n",
       "      <td>5.0</td>\n",
       "      <td>in buffer area parking, check dock #</td>\n",
       "      <td>9.0</td>\n",
       "      <td>None</td>\n",
       "      <td>01/04/2021 12:00:00 AM</td>\n",
       "      <td>(30.28576, -97.74181)</td>\n",
       "      <td>30.285760</td>\n",
       "      <td>-97.741810</td>\n",
       "      <td>93</td>\n",
       "    </tr>\n",
       "    <tr>\n",
       "      <th>5</th>\n",
       "      <td>25800811</td>\n",
       "      <td>Student Membership</td>\n",
       "      <td>16333</td>\n",
       "      <td>electric</td>\n",
       "      <td>12/12/2021 05:00:20 PM</td>\n",
       "      <td>2021-12-12</td>\n",
       "      <td>2023-12-08 17:00:20</td>\n",
       "      <td>3686</td>\n",
       "      <td>Sterzing/Barton Springs</td>\n",
       "      <td>3294</td>\n",
       "      <td>6th/Lavaca</td>\n",
       "      <td>15</td>\n",
       "      <td>12</td>\n",
       "      <td>2021</td>\n",
       "      <td>170020</td>\n",
       "      <td>20211212</td>\n",
       "      <td>3686.0</td>\n",
       "      <td>Sterzing at Barton Springs</td>\n",
       "      <td>active</td>\n",
       "      <td>(30.26406, -97.76385)</td>\n",
       "      <td>1825 Barton Springs Rd</td>\n",
       "      <td>None</td>\n",
       "      <td>32592.0</td>\n",
       "      <td>undetermined_parking</td>\n",
       "      <td>13.0</td>\n",
       "      <td>solar</td>\n",
       "      <td>40.0</td>\n",
       "      <td>5.0</td>\n",
       "      <td>None</td>\n",
       "      <td>5.0</td>\n",
       "      <td>None</td>\n",
       "      <td>01/04/2021 12:00:00 AM</td>\n",
       "      <td>(30.26406, -97.76385)</td>\n",
       "      <td>30.264060</td>\n",
       "      <td>-97.763850</td>\n",
       "      <td>132</td>\n",
       "    </tr>\n",
       "    <tr>\n",
       "      <th>6</th>\n",
       "      <td>25800817</td>\n",
       "      <td>3-Day Weekender</td>\n",
       "      <td>21523</td>\n",
       "      <td>electric</td>\n",
       "      <td>12/12/2021 05:01:23 PM</td>\n",
       "      <td>2021-12-12</td>\n",
       "      <td>2023-12-08 17:01:23</td>\n",
       "      <td>3621</td>\n",
       "      <td>3rd/Nueces</td>\n",
       "      <td>2496</td>\n",
       "      <td>8th/Congress</td>\n",
       "      <td>78</td>\n",
       "      <td>12</td>\n",
       "      <td>2021</td>\n",
       "      <td>170123</td>\n",
       "      <td>20211212</td>\n",
       "      <td>3621.0</td>\n",
       "      <td>Nueces &amp; 3rd</td>\n",
       "      <td>active</td>\n",
       "      <td>(30.26697, -97.74929)</td>\n",
       "      <td>311 Nueces St.</td>\n",
       "      <td>None</td>\n",
       "      <td>16742.0</td>\n",
       "      <td>paid_parking</td>\n",
       "      <td>11.0</td>\n",
       "      <td>solar</td>\n",
       "      <td>35.0</td>\n",
       "      <td>5.0</td>\n",
       "      <td>None</td>\n",
       "      <td>9.0</td>\n",
       "      <td>None</td>\n",
       "      <td>01/04/2021 12:00:00 AM</td>\n",
       "      <td>(30.26697, -97.74929)</td>\n",
       "      <td>30.266970</td>\n",
       "      <td>-97.749290</td>\n",
       "      <td>127</td>\n",
       "    </tr>\n",
       "    <tr>\n",
       "      <th>7</th>\n",
       "      <td>25801020</td>\n",
       "      <td>Local365</td>\n",
       "      <td>21419</td>\n",
       "      <td>electric</td>\n",
       "      <td>12/12/2021 05:32:42 PM</td>\n",
       "      <td>2021-12-12</td>\n",
       "      <td>2023-12-08 17:32:42</td>\n",
       "      <td>2563</td>\n",
       "      <td>Rainey/Davis</td>\n",
       "      <td>2547</td>\n",
       "      <td>21st/Guadalupe</td>\n",
       "      <td>11</td>\n",
       "      <td>12</td>\n",
       "      <td>2021</td>\n",
       "      <td>173242</td>\n",
       "      <td>20211212</td>\n",
       "      <td>2563.0</td>\n",
       "      <td>Rainey/Driskill</td>\n",
       "      <td>active</td>\n",
       "      <td>(30.260814, -97.738086)</td>\n",
       "      <td>698 Davis St</td>\n",
       "      <td>None</td>\n",
       "      <td>16751.0</td>\n",
       "      <td>paid_parking</td>\n",
       "      <td>12.0</td>\n",
       "      <td>non-metered</td>\n",
       "      <td>40.0</td>\n",
       "      <td>5.0</td>\n",
       "      <td>None</td>\n",
       "      <td>9.0</td>\n",
       "      <td>None</td>\n",
       "      <td>03/04/2022 08:26:00 AM</td>\n",
       "      <td>(30.260814, -97.738086)</td>\n",
       "      <td>30.260814</td>\n",
       "      <td>-97.738086</td>\n",
       "      <td>99</td>\n",
       "    </tr>\n",
       "    <tr>\n",
       "      <th>8</th>\n",
       "      <td>25801023</td>\n",
       "      <td>Local31</td>\n",
       "      <td>23277</td>\n",
       "      <td>electric</td>\n",
       "      <td>12/12/2021 05:34:02 PM</td>\n",
       "      <td>2021-12-12</td>\n",
       "      <td>2023-12-08 17:34:02</td>\n",
       "      <td>4061</td>\n",
       "      <td>Lakeshore/Austin Hostel</td>\n",
       "      <td>2575</td>\n",
       "      <td>Riverside/South Lamar</td>\n",
       "      <td>51</td>\n",
       "      <td>12</td>\n",
       "      <td>2021</td>\n",
       "      <td>173402</td>\n",
       "      <td>20211212</td>\n",
       "      <td>4061.0</td>\n",
       "      <td>Lakeshore @ Austin Hostel</td>\n",
       "      <td>active</td>\n",
       "      <td>(30.24472, -97.72336)</td>\n",
       "      <td>2200 S Lakeshore Blvd</td>\n",
       "      <td>None</td>\n",
       "      <td>32692.0</td>\n",
       "      <td>nonmetered_parking</td>\n",
       "      <td>15.0</td>\n",
       "      <td>solar</td>\n",
       "      <td>45.0</td>\n",
       "      <td>5.0</td>\n",
       "      <td>None</td>\n",
       "      <td>3.0</td>\n",
       "      <td>None</td>\n",
       "      <td>01/04/2021 12:00:00 AM</td>\n",
       "      <td>(30.24472, -97.72336)</td>\n",
       "      <td>30.244720</td>\n",
       "      <td>-97.723360</td>\n",
       "      <td>156</td>\n",
       "    </tr>\n",
       "    <tr>\n",
       "      <th>9</th>\n",
       "      <td>25801106</td>\n",
       "      <td>Local365</td>\n",
       "      <td>19207</td>\n",
       "      <td>electric</td>\n",
       "      <td>12/12/2021 05:48:11 PM</td>\n",
       "      <td>2021-12-12</td>\n",
       "      <td>2023-12-08 17:48:11</td>\n",
       "      <td>3798</td>\n",
       "      <td>21st/Speedway @ PCL</td>\n",
       "      <td>3793</td>\n",
       "      <td>28th/Rio Grande</td>\n",
       "      <td>8</td>\n",
       "      <td>12</td>\n",
       "      <td>2021</td>\n",
       "      <td>174811</td>\n",
       "      <td>20211212</td>\n",
       "      <td>3798.0</td>\n",
       "      <td>21st &amp; Speedway @PCL</td>\n",
       "      <td>active</td>\n",
       "      <td>(30.283, -97.7375)</td>\n",
       "      <td>E. 21st St.</td>\n",
       "      <td>None</td>\n",
       "      <td>32675.0</td>\n",
       "      <td>sidewalk</td>\n",
       "      <td>22.0</td>\n",
       "      <td>solar</td>\n",
       "      <td>30.0</td>\n",
       "      <td>7.5</td>\n",
       "      <td>On UT property-2 sided</td>\n",
       "      <td>9.0</td>\n",
       "      <td>None</td>\n",
       "      <td>01/04/2021 12:00:00 AM</td>\n",
       "      <td>(30.283, -97.7375)</td>\n",
       "      <td>30.283000</td>\n",
       "      <td>-97.737500</td>\n",
       "      <td>141</td>\n",
       "    </tr>\n",
       "    <tr>\n",
       "      <th>10</th>\n",
       "      <td>25801252</td>\n",
       "      <td>3-Day Weekender</td>\n",
       "      <td>22530</td>\n",
       "      <td>electric</td>\n",
       "      <td>12/12/2021 06:19:32 PM</td>\n",
       "      <td>2021-12-12</td>\n",
       "      <td>2023-12-08 18:19:32</td>\n",
       "      <td>2496</td>\n",
       "      <td>8th/Congress</td>\n",
       "      <td>2495</td>\n",
       "      <td>4th/Congress</td>\n",
       "      <td>22</td>\n",
       "      <td>12</td>\n",
       "      <td>2021</td>\n",
       "      <td>181932</td>\n",
       "      <td>20211212</td>\n",
       "      <td>2496.0</td>\n",
       "      <td>8th &amp; Congress</td>\n",
       "      <td>active</td>\n",
       "      <td>(30.2698, -97.74186)</td>\n",
       "      <td>111 E. 8th St.</td>\n",
       "      <td>None</td>\n",
       "      <td>16725.0</td>\n",
       "      <td>sidewalk</td>\n",
       "      <td>14.0</td>\n",
       "      <td>solar</td>\n",
       "      <td>20.0</td>\n",
       "      <td>7.5</td>\n",
       "      <td>double sided</td>\n",
       "      <td>9.0</td>\n",
       "      <td>None</td>\n",
       "      <td>01/04/2021 12:00:00 AM</td>\n",
       "      <td>(30.2698, -97.74186)</td>\n",
       "      <td>30.269800</td>\n",
       "      <td>-97.741860</td>\n",
       "      <td>73</td>\n",
       "    </tr>\n",
       "    <tr>\n",
       "      <th>11</th>\n",
       "      <td>25801398</td>\n",
       "      <td>Explorer</td>\n",
       "      <td>546</td>\n",
       "      <td>classic</td>\n",
       "      <td>12/12/2021 06:56:29 PM</td>\n",
       "      <td>2021-12-12</td>\n",
       "      <td>2023-12-08 18:56:29</td>\n",
       "      <td>2567</td>\n",
       "      <td>Barton Springs/Bouldin @ Palmer Auditorium</td>\n",
       "      <td>2539</td>\n",
       "      <td>3rd/Trinity @ The Convention Center</td>\n",
       "      <td>81</td>\n",
       "      <td>12</td>\n",
       "      <td>2021</td>\n",
       "      <td>185629</td>\n",
       "      <td>20211212</td>\n",
       "      <td>2567.0</td>\n",
       "      <td>Palmer Auditorium</td>\n",
       "      <td>active</td>\n",
       "      <td>(30.25971, -97.75346)</td>\n",
       "      <td>900 Barton Springs Rd.</td>\n",
       "      <td>None</td>\n",
       "      <td>16753.0</td>\n",
       "      <td>sidewalk</td>\n",
       "      <td>15.0</td>\n",
       "      <td>solar</td>\n",
       "      <td>45.0</td>\n",
       "      <td>5.0</td>\n",
       "      <td>adjacent to parkland</td>\n",
       "      <td>9.0</td>\n",
       "      <td>None</td>\n",
       "      <td>01/04/2021 12:00:00 AM</td>\n",
       "      <td>(30.25971, -97.75346)</td>\n",
       "      <td>30.259710</td>\n",
       "      <td>-97.753460</td>\n",
       "      <td>103</td>\n",
       "    </tr>\n",
       "    <tr>\n",
       "      <th>12</th>\n",
       "      <td>25801461</td>\n",
       "      <td>Student Membership</td>\n",
       "      <td>19403</td>\n",
       "      <td>electric</td>\n",
       "      <td>12/12/2021 07:09:34 PM</td>\n",
       "      <td>2021-12-12</td>\n",
       "      <td>2023-12-08 19:09:34</td>\n",
       "      <td>2498</td>\n",
       "      <td>Dean Keeton/Speedway</td>\n",
       "      <td>3795</td>\n",
       "      <td>Dean Keeton/Whitis</td>\n",
       "      <td>3</td>\n",
       "      <td>12</td>\n",
       "      <td>2021</td>\n",
       "      <td>190934</td>\n",
       "      <td>20211212</td>\n",
       "      <td>2498.0</td>\n",
       "      <td>4th/Sabine</td>\n",
       "      <td>active</td>\n",
       "      <td>(30.264327, -97.736446)</td>\n",
       "      <td>702 E 4th St</td>\n",
       "      <td>None</td>\n",
       "      <td>16734.0</td>\n",
       "      <td>sidewalk</td>\n",
       "      <td>17.0</td>\n",
       "      <td>non-metered</td>\n",
       "      <td>50.0</td>\n",
       "      <td>5.0</td>\n",
       "      <td>moved from 4th and Neches</td>\n",
       "      <td>9.0</td>\n",
       "      <td>None</td>\n",
       "      <td>03/04/2022 08:12:00 AM</td>\n",
       "      <td>(30.264327, -97.736446)</td>\n",
       "      <td>30.264327</td>\n",
       "      <td>-97.736446</td>\n",
       "      <td>75</td>\n",
       "    </tr>\n",
       "    <tr>\n",
       "      <th>13</th>\n",
       "      <td>30125269</td>\n",
       "      <td>Local31</td>\n",
       "      <td>21688</td>\n",
       "      <td>electric</td>\n",
       "      <td>07/05/2023 03:47:43 PM</td>\n",
       "      <td>2023-07-05</td>\n",
       "      <td>2023-12-08 15:47:43</td>\n",
       "      <td>3790</td>\n",
       "      <td>Lake Austin Blvd/Deep Eddy</td>\n",
       "      <td>3790</td>\n",
       "      <td>East 6th/Medina</td>\n",
       "      <td>27</td>\n",
       "      <td>7</td>\n",
       "      <td>2023</td>\n",
       "      <td>154743</td>\n",
       "      <td>20230705</td>\n",
       "      <td>3790.0</td>\n",
       "      <td>Lake Austin Blvd @ Deep Eddy</td>\n",
       "      <td>active</td>\n",
       "      <td>(30.27807, -97.77272)</td>\n",
       "      <td>2401 Lake Austin Blvd</td>\n",
       "      <td>None</td>\n",
       "      <td>32673.0</td>\n",
       "      <td>sidewalk</td>\n",
       "      <td>13.0</td>\n",
       "      <td>solar</td>\n",
       "      <td>40.0</td>\n",
       "      <td>5.0</td>\n",
       "      <td>None</td>\n",
       "      <td>10.0</td>\n",
       "      <td>None</td>\n",
       "      <td>01/04/2021 12:00:00 AM</td>\n",
       "      <td>(30.27807, -97.77272)</td>\n",
       "      <td>30.278070</td>\n",
       "      <td>-97.772720</td>\n",
       "      <td>134</td>\n",
       "    </tr>\n",
       "    <tr>\n",
       "      <th>14</th>\n",
       "      <td>25801544</td>\n",
       "      <td>Student Membership</td>\n",
       "      <td>18556</td>\n",
       "      <td>electric</td>\n",
       "      <td>12/12/2021 07:32:29 PM</td>\n",
       "      <td>2021-12-12</td>\n",
       "      <td>2023-12-08 19:32:29</td>\n",
       "      <td>2548</td>\n",
       "      <td>Guadalupe/West Mall @ University Co-op</td>\n",
       "      <td>3795</td>\n",
       "      <td>Dean Keeton/Whitis</td>\n",
       "      <td>3</td>\n",
       "      <td>12</td>\n",
       "      <td>2021</td>\n",
       "      <td>193229</td>\n",
       "      <td>20211212</td>\n",
       "      <td>2548.0</td>\n",
       "      <td>UT West Mall @ Guadalupe</td>\n",
       "      <td>active</td>\n",
       "      <td>(30.28576, -97.74181)</td>\n",
       "      <td>2242 Guadalupe St.</td>\n",
       "      <td>None</td>\n",
       "      <td>16748.0</td>\n",
       "      <td>paid_parking</td>\n",
       "      <td>15.0</td>\n",
       "      <td>solar</td>\n",
       "      <td>45.0</td>\n",
       "      <td>5.0</td>\n",
       "      <td>in buffer area parking, check dock #</td>\n",
       "      <td>9.0</td>\n",
       "      <td>None</td>\n",
       "      <td>01/04/2021 12:00:00 AM</td>\n",
       "      <td>(30.28576, -97.74181)</td>\n",
       "      <td>30.285760</td>\n",
       "      <td>-97.741810</td>\n",
       "      <td>93</td>\n",
       "    </tr>\n",
       "    <tr>\n",
       "      <th>15</th>\n",
       "      <td>30125315</td>\n",
       "      <td>Student Membership</td>\n",
       "      <td>16288</td>\n",
       "      <td>electric</td>\n",
       "      <td>07/05/2023 03:51:42 PM</td>\n",
       "      <td>2023-07-05</td>\n",
       "      <td>2023-12-08 15:51:42</td>\n",
       "      <td>3838</td>\n",
       "      <td>26th/Nueces</td>\n",
       "      <td>3838</td>\n",
       "      <td>Dean Keeton/Speedway</td>\n",
       "      <td>4</td>\n",
       "      <td>7</td>\n",
       "      <td>2023</td>\n",
       "      <td>155142</td>\n",
       "      <td>20230705</td>\n",
       "      <td>3838.0</td>\n",
       "      <td>Nueces &amp; 26th</td>\n",
       "      <td>active</td>\n",
       "      <td>(30.29068, -97.74292)</td>\n",
       "      <td>600 W. 26th St.</td>\n",
       "      <td>None</td>\n",
       "      <td>16744.0</td>\n",
       "      <td>undetermined_parking</td>\n",
       "      <td>13.0</td>\n",
       "      <td>solar</td>\n",
       "      <td>40.0</td>\n",
       "      <td>5.0</td>\n",
       "      <td>None</td>\n",
       "      <td>9.0</td>\n",
       "      <td>None</td>\n",
       "      <td>01/04/2021 12:00:00 AM</td>\n",
       "      <td>(30.29068, -97.74292)</td>\n",
       "      <td>30.290680</td>\n",
       "      <td>-97.742920</td>\n",
       "      <td>143</td>\n",
       "    </tr>\n",
       "    <tr>\n",
       "      <th>16</th>\n",
       "      <td>25801624</td>\n",
       "      <td>Student Membership</td>\n",
       "      <td>21464</td>\n",
       "      <td>electric</td>\n",
       "      <td>12/12/2021 07:56:07 PM</td>\n",
       "      <td>2021-12-12</td>\n",
       "      <td>2023-12-08 19:56:07</td>\n",
       "      <td>3798</td>\n",
       "      <td>21st/Speedway @ PCL</td>\n",
       "      <td>3795</td>\n",
       "      <td>Dean Keeton/Whitis</td>\n",
       "      <td>4</td>\n",
       "      <td>12</td>\n",
       "      <td>2021</td>\n",
       "      <td>195607</td>\n",
       "      <td>20211212</td>\n",
       "      <td>3798.0</td>\n",
       "      <td>21st &amp; Speedway @PCL</td>\n",
       "      <td>active</td>\n",
       "      <td>(30.283, -97.7375)</td>\n",
       "      <td>E. 21st St.</td>\n",
       "      <td>None</td>\n",
       "      <td>32675.0</td>\n",
       "      <td>sidewalk</td>\n",
       "      <td>22.0</td>\n",
       "      <td>solar</td>\n",
       "      <td>30.0</td>\n",
       "      <td>7.5</td>\n",
       "      <td>On UT property-2 sided</td>\n",
       "      <td>9.0</td>\n",
       "      <td>None</td>\n",
       "      <td>01/04/2021 12:00:00 AM</td>\n",
       "      <td>(30.283, -97.7375)</td>\n",
       "      <td>30.283000</td>\n",
       "      <td>-97.737500</td>\n",
       "      <td>141</td>\n",
       "    </tr>\n",
       "    <tr>\n",
       "      <th>17</th>\n",
       "      <td>25801687</td>\n",
       "      <td>Student Membership</td>\n",
       "      <td>21508</td>\n",
       "      <td>electric</td>\n",
       "      <td>12/12/2021 08:13:19 PM</td>\n",
       "      <td>2021-12-12</td>\n",
       "      <td>2023-12-08 20:13:19</td>\n",
       "      <td>3798</td>\n",
       "      <td>21st/Speedway @ PCL</td>\n",
       "      <td>2498</td>\n",
       "      <td>Dean Keeton/Speedway</td>\n",
       "      <td>4</td>\n",
       "      <td>12</td>\n",
       "      <td>2021</td>\n",
       "      <td>201319</td>\n",
       "      <td>20211212</td>\n",
       "      <td>3798.0</td>\n",
       "      <td>21st &amp; Speedway @PCL</td>\n",
       "      <td>active</td>\n",
       "      <td>(30.283, -97.7375)</td>\n",
       "      <td>E. 21st St.</td>\n",
       "      <td>None</td>\n",
       "      <td>32675.0</td>\n",
       "      <td>sidewalk</td>\n",
       "      <td>22.0</td>\n",
       "      <td>solar</td>\n",
       "      <td>30.0</td>\n",
       "      <td>7.5</td>\n",
       "      <td>On UT property-2 sided</td>\n",
       "      <td>9.0</td>\n",
       "      <td>None</td>\n",
       "      <td>01/04/2021 12:00:00 AM</td>\n",
       "      <td>(30.283, -97.7375)</td>\n",
       "      <td>30.283000</td>\n",
       "      <td>-97.737500</td>\n",
       "      <td>141</td>\n",
       "    </tr>\n",
       "    <tr>\n",
       "      <th>18</th>\n",
       "      <td>30153017</td>\n",
       "      <td>Pay-as-you-ride</td>\n",
       "      <td>19821</td>\n",
       "      <td>electric</td>\n",
       "      <td>07/08/2023 10:15:35 AM</td>\n",
       "      <td>2023-07-08</td>\n",
       "      <td>2023-12-08 10:15:35</td>\n",
       "      <td>4059</td>\n",
       "      <td>Nash Hernandez/East @ RBJ South</td>\n",
       "      <td>4059</td>\n",
       "      <td>Nash Hernandez/East @ RBJ South</td>\n",
       "      <td>54</td>\n",
       "      <td>7</td>\n",
       "      <td>2023</td>\n",
       "      <td>101535</td>\n",
       "      <td>20230708</td>\n",
       "      <td>4059.0</td>\n",
       "      <td>Nash Hernandez @ RBJ South</td>\n",
       "      <td>active</td>\n",
       "      <td>(30.252, -97.7346)</td>\n",
       "      <td>1316 Festival Beach Rd</td>\n",
       "      <td>None</td>\n",
       "      <td>32693.0</td>\n",
       "      <td>nonmetered_parking</td>\n",
       "      <td>13.0</td>\n",
       "      <td>solar</td>\n",
       "      <td>40.0</td>\n",
       "      <td>5.0</td>\n",
       "      <td>None</td>\n",
       "      <td>3.0</td>\n",
       "      <td>None</td>\n",
       "      <td>01/04/2021 12:00:00 AM</td>\n",
       "      <td>(30.252, -97.7346)</td>\n",
       "      <td>30.252000</td>\n",
       "      <td>-97.734600</td>\n",
       "      <td>154</td>\n",
       "    </tr>\n",
       "    <tr>\n",
       "      <th>19</th>\n",
       "      <td>30094172</td>\n",
       "      <td>Explorer</td>\n",
       "      <td>16333</td>\n",
       "      <td>electric</td>\n",
       "      <td>07/02/2023 07:11:14 PM</td>\n",
       "      <td>2023-07-02</td>\n",
       "      <td>2023-12-08 19:11:14</td>\n",
       "      <td>3660</td>\n",
       "      <td>East 6th/Medina</td>\n",
       "      <td>3660</td>\n",
       "      <td>East 6th/Medina</td>\n",
       "      <td>77</td>\n",
       "      <td>7</td>\n",
       "      <td>2023</td>\n",
       "      <td>191114</td>\n",
       "      <td>20230702</td>\n",
       "      <td>3660.0</td>\n",
       "      <td>Medina &amp; East 6th</td>\n",
       "      <td>active</td>\n",
       "      <td>(30.26455, -97.73165)</td>\n",
       "      <td>590 Medina St.</td>\n",
       "      <td>None</td>\n",
       "      <td>16761.0</td>\n",
       "      <td>undetermined_parking</td>\n",
       "      <td>11.0</td>\n",
       "      <td>solar</td>\n",
       "      <td>35.0</td>\n",
       "      <td>5.0</td>\n",
       "      <td>None</td>\n",
       "      <td>3.0</td>\n",
       "      <td>None</td>\n",
       "      <td>01/04/2021 12:00:00 AM</td>\n",
       "      <td>(30.26455, -97.73165)</td>\n",
       "      <td>30.264550</td>\n",
       "      <td>-97.731650</td>\n",
       "      <td>129</td>\n",
       "    </tr>\n",
       "    <tr>\n",
       "      <th>20</th>\n",
       "      <td>25801753</td>\n",
       "      <td>Student Membership</td>\n",
       "      <td>21458</td>\n",
       "      <td>electric</td>\n",
       "      <td>12/12/2021 08:31:38 PM</td>\n",
       "      <td>2021-12-12</td>\n",
       "      <td>2023-12-08 20:31:38</td>\n",
       "      <td>3795</td>\n",
       "      <td>Dean Keeton/Whitis</td>\n",
       "      <td>4938</td>\n",
       "      <td>22.5/Rio Grande</td>\n",
       "      <td>5</td>\n",
       "      <td>12</td>\n",
       "      <td>2021</td>\n",
       "      <td>203138</td>\n",
       "      <td>20211212</td>\n",
       "      <td>3795.0</td>\n",
       "      <td>Dean Keeton &amp; Whitis</td>\n",
       "      <td>active</td>\n",
       "      <td>(30.2898, -97.74041)</td>\n",
       "      <td>300 W. Dean Keeton St.</td>\n",
       "      <td>None</td>\n",
       "      <td>32671.0</td>\n",
       "      <td>undetermined_parking</td>\n",
       "      <td>19.0</td>\n",
       "      <td>solar</td>\n",
       "      <td>55.0</td>\n",
       "      <td>5.0</td>\n",
       "      <td>None</td>\n",
       "      <td>9.0</td>\n",
       "      <td>None</td>\n",
       "      <td>01/04/2021 12:00:00 AM</td>\n",
       "      <td>(30.2898, -97.74041)</td>\n",
       "      <td>30.289800</td>\n",
       "      <td>-97.740410</td>\n",
       "      <td>139</td>\n",
       "    </tr>\n",
       "    <tr>\n",
       "      <th>21</th>\n",
       "      <td>25801767</td>\n",
       "      <td>Local31</td>\n",
       "      <td>19943</td>\n",
       "      <td>electric</td>\n",
       "      <td>12/12/2021 08:35:10 PM</td>\n",
       "      <td>2021-12-12</td>\n",
       "      <td>2023-12-08 20:35:10</td>\n",
       "      <td>2495</td>\n",
       "      <td>4th/Congress</td>\n",
       "      <td>2495</td>\n",
       "      <td>4th/Congress</td>\n",
       "      <td>47</td>\n",
       "      <td>12</td>\n",
       "      <td>2021</td>\n",
       "      <td>203510</td>\n",
       "      <td>20211212</td>\n",
       "      <td>2495.0</td>\n",
       "      <td>4th &amp; Congress</td>\n",
       "      <td>active</td>\n",
       "      <td>(30.26634, -97.74378)</td>\n",
       "      <td>120 W. 4th St.</td>\n",
       "      <td>None</td>\n",
       "      <td>16726.0</td>\n",
       "      <td>paid_parking</td>\n",
       "      <td>15.0</td>\n",
       "      <td>solar</td>\n",
       "      <td>45.0</td>\n",
       "      <td>5.0</td>\n",
       "      <td>None</td>\n",
       "      <td>9.0</td>\n",
       "      <td>None</td>\n",
       "      <td>01/04/2021 12:00:00 AM</td>\n",
       "      <td>(30.26634, -97.74378)</td>\n",
       "      <td>30.266340</td>\n",
       "      <td>-97.743780</td>\n",
       "      <td>72</td>\n",
       "    </tr>\n",
       "    <tr>\n",
       "      <th>22</th>\n",
       "      <td>25801790</td>\n",
       "      <td>Student Membership</td>\n",
       "      <td>21423</td>\n",
       "      <td>electric</td>\n",
       "      <td>12/12/2021 08:42:09 PM</td>\n",
       "      <td>2021-12-12</td>\n",
       "      <td>2023-12-08 20:42:09</td>\n",
       "      <td>3838</td>\n",
       "      <td>26th/Nueces</td>\n",
       "      <td>3798</td>\n",
       "      <td>21st/Speedway @ PCL</td>\n",
       "      <td>4</td>\n",
       "      <td>12</td>\n",
       "      <td>2021</td>\n",
       "      <td>204209</td>\n",
       "      <td>20211212</td>\n",
       "      <td>3838.0</td>\n",
       "      <td>Nueces &amp; 26th</td>\n",
       "      <td>active</td>\n",
       "      <td>(30.29068, -97.74292)</td>\n",
       "      <td>600 W. 26th St.</td>\n",
       "      <td>None</td>\n",
       "      <td>16744.0</td>\n",
       "      <td>undetermined_parking</td>\n",
       "      <td>13.0</td>\n",
       "      <td>solar</td>\n",
       "      <td>40.0</td>\n",
       "      <td>5.0</td>\n",
       "      <td>None</td>\n",
       "      <td>9.0</td>\n",
       "      <td>None</td>\n",
       "      <td>01/04/2021 12:00:00 AM</td>\n",
       "      <td>(30.29068, -97.74292)</td>\n",
       "      <td>30.290680</td>\n",
       "      <td>-97.742920</td>\n",
       "      <td>143</td>\n",
       "    </tr>\n",
       "    <tr>\n",
       "      <th>23</th>\n",
       "      <td>25801810</td>\n",
       "      <td>Student Membership</td>\n",
       "      <td>22458</td>\n",
       "      <td>electric</td>\n",
       "      <td>12/12/2021 08:47:32 PM</td>\n",
       "      <td>2021-12-12</td>\n",
       "      <td>2023-12-08 20:47:32</td>\n",
       "      <td>3797</td>\n",
       "      <td>21st/University</td>\n",
       "      <td>3792</td>\n",
       "      <td>22nd/Pearl</td>\n",
       "      <td>4</td>\n",
       "      <td>12</td>\n",
       "      <td>2021</td>\n",
       "      <td>204732</td>\n",
       "      <td>20211212</td>\n",
       "      <td>3797.0</td>\n",
       "      <td>21st &amp; University</td>\n",
       "      <td>active</td>\n",
       "      <td>(30.28354, -97.73953)</td>\n",
       "      <td>2007 University Ave.</td>\n",
       "      <td>None</td>\n",
       "      <td>32674.0</td>\n",
       "      <td>undetermined_parking</td>\n",
       "      <td>19.0</td>\n",
       "      <td>solar</td>\n",
       "      <td>55.0</td>\n",
       "      <td>5.0</td>\n",
       "      <td>ROW might belong to UT</td>\n",
       "      <td>9.0</td>\n",
       "      <td>None</td>\n",
       "      <td>01/04/2021 12:00:00 AM</td>\n",
       "      <td>(30.28354, -97.73953)</td>\n",
       "      <td>30.283540</td>\n",
       "      <td>-97.739530</td>\n",
       "      <td>140</td>\n",
       "    </tr>\n",
       "    <tr>\n",
       "      <th>24</th>\n",
       "      <td>25801836</td>\n",
       "      <td>Student Membership</td>\n",
       "      <td>19207</td>\n",
       "      <td>electric</td>\n",
       "      <td>12/12/2021 08:54:08 PM</td>\n",
       "      <td>2021-12-12</td>\n",
       "      <td>2023-12-08 20:54:08</td>\n",
       "      <td>3793</td>\n",
       "      <td>28th/Rio Grande</td>\n",
       "      <td>3795</td>\n",
       "      <td>Dean Keeton/Whitis</td>\n",
       "      <td>3</td>\n",
       "      <td>12</td>\n",
       "      <td>2021</td>\n",
       "      <td>205408</td>\n",
       "      <td>20211212</td>\n",
       "      <td>3793.0</td>\n",
       "      <td>Rio Grande &amp; 28th</td>\n",
       "      <td>active</td>\n",
       "      <td>(30.29333, -97.74412)</td>\n",
       "      <td>2717 Rio Grande St.</td>\n",
       "      <td>None</td>\n",
       "      <td>32668.0</td>\n",
       "      <td>paid_parking</td>\n",
       "      <td>13.0</td>\n",
       "      <td>solar</td>\n",
       "      <td>40.0</td>\n",
       "      <td>5.0</td>\n",
       "      <td>None</td>\n",
       "      <td>9.0</td>\n",
       "      <td>None</td>\n",
       "      <td>01/04/2021 12:00:00 AM</td>\n",
       "      <td>(30.29333, -97.74412)</td>\n",
       "      <td>30.293330</td>\n",
       "      <td>-97.744120</td>\n",
       "      <td>137</td>\n",
       "    </tr>\n",
       "  </tbody>\n",
       "</table>\n",
       "</div>"
      ],
      "text/plain": [
       "      TripID            PassType  BikeKey  ...   Latitude  Longitude LocationKey\n",
       "0   30124963  Student Membership    17751  ...  30.283000 -97.737500         141\n",
       "1   25800691  Student Membership    21829  ...  30.264520 -97.771200         108\n",
       "2   30125060            Explorer    18939  ...  30.268220 -97.742850         126\n",
       "3   30125063            Explorer    21849  ...  30.268220 -97.742850         126\n",
       "4   25800774  Student Membership    21803  ...  30.285760 -97.741810          93\n",
       "5   25800811  Student Membership    16333  ...  30.264060 -97.763850         132\n",
       "6   25800817     3-Day Weekender    21523  ...  30.266970 -97.749290         127\n",
       "7   25801020            Local365    21419  ...  30.260814 -97.738086          99\n",
       "8   25801023             Local31    23277  ...  30.244720 -97.723360         156\n",
       "9   25801106            Local365    19207  ...  30.283000 -97.737500         141\n",
       "10  25801252     3-Day Weekender    22530  ...  30.269800 -97.741860          73\n",
       "11  25801398            Explorer      546  ...  30.259710 -97.753460         103\n",
       "12  25801461  Student Membership    19403  ...  30.264327 -97.736446          75\n",
       "13  30125269             Local31    21688  ...  30.278070 -97.772720         134\n",
       "14  25801544  Student Membership    18556  ...  30.285760 -97.741810          93\n",
       "15  30125315  Student Membership    16288  ...  30.290680 -97.742920         143\n",
       "16  25801624  Student Membership    21464  ...  30.283000 -97.737500         141\n",
       "17  25801687  Student Membership    21508  ...  30.283000 -97.737500         141\n",
       "18  30153017     Pay-as-you-ride    19821  ...  30.252000 -97.734600         154\n",
       "19  30094172            Explorer    16333  ...  30.264550 -97.731650         129\n",
       "20  25801753  Student Membership    21458  ...  30.289800 -97.740410         139\n",
       "21  25801767             Local31    19943  ...  30.266340 -97.743780          72\n",
       "22  25801790  Student Membership    21423  ...  30.290680 -97.742920         143\n",
       "23  25801810  Student Membership    22458  ...  30.283540 -97.739530         140\n",
       "24  25801836  Student Membership    19207  ...  30.293330 -97.744120         137\n",
       "\n",
       "[25 rows x 36 columns]"
      ]
     },
     "execution_count": 188,
     "metadata": {},
     "output_type": "execute_result"
    }
   ],
   "source": [
    "trips_kiosks_loc_df.head(25)"
   ]
  },
  {
   "cell_type": "code",
   "execution_count": 0,
   "metadata": {
    "application/vnd.databricks.v1+cell": {
     "cellMetadata": {
      "byteLimit": 2048000,
      "rowLimit": 10000
     },
     "inputWidgets": {},
     "nuid": "f5050bb7-86d5-4a1c-9095-0633724f06ea",
     "showTitle": false,
     "title": ""
    }
   },
   "outputs": [
    {
     "output_type": "execute_result",
     "data": {
      "text/plain": [
       "Index(['TripID', 'PassType', 'BikeKey', 'BikeType', 'CheckoutDatetime',\n",
       "       'CheckoutDate', 'CheckoutTime', 'CheckoutKioskID', 'CheckoutKiosk',\n",
       "       'ReturnKioskID', 'ReturnKiosk', 'TripDurationMinutes', 'Month', 'Year',\n",
       "       'TimeKey', 'DateKey', 'KioskID', 'KioskName', 'KioskStatus', 'Location',\n",
       "       'Address', 'AlternateName', 'CityAssetNumber', 'PropertyType',\n",
       "       'NumberofDocks', 'PowerType', 'FootprintLength', 'FootprintWidth',\n",
       "       'Notes', 'CouncilDistrict', 'Image', 'ModifiedDate', 'PointString',\n",
       "       'Latitude', 'Longitude', 'LocationKey'],\n",
       "      dtype='object')"
      ]
     },
     "execution_count": 189,
     "metadata": {},
     "output_type": "execute_result"
    }
   ],
   "source": [
    "trips_kiosks_loc_df.columns"
   ]
  },
  {
   "cell_type": "code",
   "execution_count": 0,
   "metadata": {
    "application/vnd.databricks.v1+cell": {
     "cellMetadata": {
      "byteLimit": 2048000,
      "rowLimit": 10000
     },
     "inputWidgets": {},
     "nuid": "fd9d6633-a274-439a-9548-5678bc1434bd",
     "showTitle": false,
     "title": ""
    }
   },
   "outputs": [],
   "source": [
    "trips_kiosks_loc_df = trips_kiosks_loc_df[[\"DateKey\", \"TimeKey\", \"LocationKey\", \"BikeKey\", \"TripID\", \"TripDurationMinutes\", \"PassType\"]]"
   ]
  },
  {
   "cell_type": "code",
   "execution_count": 0,
   "metadata": {
    "application/vnd.databricks.v1+cell": {
     "cellMetadata": {
      "byteLimit": 2048000,
      "rowLimit": 10000
     },
     "inputWidgets": {},
     "nuid": "bda03343-f220-4438-9299-a13aec9423d1",
     "showTitle": false,
     "title": ""
    }
   },
   "outputs": [
    {
     "output_type": "execute_result",
     "data": {
      "text/plain": [
       "DateKey                0\n",
       "TimeKey                0\n",
       "LocationKey            0\n",
       "BikeKey                0\n",
       "TripID                 0\n",
       "TripDurationMinutes    0\n",
       "dtype: int64"
      ]
     },
     "execution_count": 159,
     "metadata": {},
     "output_type": "execute_result"
    }
   ],
   "source": [
    "trips_kiosks_loc_df.isna().sum()"
   ]
  },
  {
   "cell_type": "code",
   "execution_count": 0,
   "metadata": {
    "application/vnd.databricks.v1+cell": {
     "cellMetadata": {
      "byteLimit": 2048000,
      "rowLimit": 10000
     },
     "inputWidgets": {},
     "nuid": "f04c5ea5-d29e-419b-be9b-ca5accc53041",
     "showTitle": false,
     "title": ""
    }
   },
   "outputs": [],
   "source": [
    "fact_bike_trip =  spark.createDataFrame(trips_kiosks_loc_df)"
   ]
  },
  {
   "cell_type": "code",
   "execution_count": 0,
   "metadata": {
    "application/vnd.databricks.v1+cell": {
     "cellMetadata": {
      "byteLimit": 2048000,
      "rowLimit": 10000
     },
     "inputWidgets": {},
     "nuid": "24d2c93b-f6d1-405f-824c-9ac5e1b163a2",
     "showTitle": false,
     "title": ""
    }
   },
   "outputs": [
    {
     "output_type": "execute_result",
     "data": {
      "text/plain": [
       "DataFrame[]"
      ]
     },
     "execution_count": 195,
     "metadata": {},
     "output_type": "execute_result"
    }
   ],
   "source": [
    "fact_bike_trip.write.format(\"delta\").save(\"/hive_metastore/path/to/your/new/delta/folderv\")\n",
    "spark.sql(\"CREATE TABLE metrobikes.fact_bike_trip USING delta LOCATION '/hive_metastore/path/to/your/new/delta/folder'\")"
   ]
  },
  {
   "cell_type": "code",
   "execution_count": 0,
   "metadata": {
    "application/vnd.databricks.v1+cell": {
     "cellMetadata": {
      "byteLimit": 2048000,
      "rowLimit": 10000
     },
     "inputWidgets": {},
     "nuid": "e9b99b12-d86b-48ac-bda7-d33007b0ab15",
     "showTitle": false,
     "title": ""
    }
   },
   "outputs": [
    {
     "output_type": "execute_result",
     "data": {
      "text/plain": [
       "DataFrame[]"
      ]
     },
     "execution_count": 171,
     "metadata": {},
     "output_type": "execute_result"
    }
   ],
   "source": [
    "location_dim.write.format(\"delta\").save(\"/hive_metastore/path/to/your/new/delta/folder\")\n",
    "spark.sql(\"CREATE TABLE metrobikes.location_dim USING delta LOCATION '/hive_metastore/path/to/your/new/delta/folder'\")"
   ]
  },
  {
   "cell_type": "code",
   "execution_count": 0,
   "metadata": {
    "application/vnd.databricks.v1+cell": {
     "cellMetadata": {
      "byteLimit": 2048000,
      "rowLimit": 10000
     },
     "inputWidgets": {},
     "nuid": "bc7a6a96-9d3f-4c45-8f54-8f8fb262e87e",
     "showTitle": false,
     "title": ""
    }
   },
   "outputs": [
    {
     "output_type": "execute_result",
     "data": {
      "text/plain": [
       "DataFrame[]"
      ]
     },
     "execution_count": 175,
     "metadata": {},
     "output_type": "execute_result"
    }
   ],
   "source": [
    "time_dim.write.format(\"delta\").save(\"/hive_metastore/path/to/your/new/delta/folder\")\n",
    "spark.sql(\"CREATE TABLE metrobikes.time_dim USING delta LOCATION '/hive_metastore/path/to/your/new/delta/folder'\")"
   ]
  },
  {
   "cell_type": "code",
   "execution_count": 0,
   "metadata": {
    "application/vnd.databricks.v1+cell": {
     "cellMetadata": {
      "byteLimit": 2048000,
      "rowLimit": 10000
     },
     "inputWidgets": {},
     "nuid": "b0e42b7d-adbe-4746-8aa7-d7f92c22f789",
     "showTitle": false,
     "title": ""
    }
   },
   "outputs": [
    {
     "output_type": "execute_result",
     "data": {
      "text/plain": [
       "DataFrame[]"
      ]
     },
     "execution_count": 181,
     "metadata": {},
     "output_type": "execute_result"
    }
   ],
   "source": [
    "bike_dim.write.format(\"delta\").save(\"/hive_metastore/path/to/your/new/delta/folder\")\n",
    "spark.sql(\"CREATE TABLE metrobikes.bike_dim USING delta LOCATION '/hive_metastore/path/to/your/new/delta/folder'\")"
   ]
  },
  {
   "cell_type": "code",
   "execution_count": 0,
   "metadata": {
    "application/vnd.databricks.v1+cell": {
     "cellMetadata": {
      "byteLimit": 2048000,
      "rowLimit": 10000
     },
     "inputWidgets": {},
     "nuid": "91b87a80-5d3b-47e5-bd66-8239067efdae",
     "showTitle": false,
     "title": ""
    }
   },
   "outputs": [
    {
     "output_type": "execute_result",
     "data": {
      "text/plain": [
       "DataFrame[]"
      ]
     },
     "execution_count": 178,
     "metadata": {},
     "output_type": "execute_result"
    }
   ],
   "source": [
    "date_dim.write.format(\"delta\").save(\"/hive_metastore/path/to/your/new/delta/folder\")\n",
    "spark.sql(\"CREATE TABLE metrobikes.date_dim USING delta LOCATION '/hive_metastore/path/to/your/new/delta/folder'\")"
   ]
  },
  {
   "cell_type": "code",
   "execution_count": 0,
   "metadata": {
    "application/vnd.databricks.v1+cell": {
     "cellMetadata": {},
     "inputWidgets": {},
     "nuid": "c7429725-9513-408b-84b1-3f25c1bce1f6",
     "showTitle": false,
     "title": ""
    }
   },
   "outputs": [],
   "source": []
  }
 ],
 "metadata": {
  "application/vnd.databricks.v1+notebook": {
   "dashboards": [],
   "language": "python",
   "notebookMetadata": {
    "pythonIndentUnit": 4
   },
   "notebookName": "transform",
   "widgets": {}
  }
 },
 "nbformat": 4,
 "nbformat_minor": 0
}
